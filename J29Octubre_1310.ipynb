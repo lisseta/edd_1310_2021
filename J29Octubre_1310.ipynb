{
  "nbformat": 4,
  "nbformat_minor": 0,
  "metadata": {
    "colab": {
      "name": "J29Octubre_1310.ipynb",
      "provenance": [],
      "authorship_tag": "ABX9TyNUIPCkpxwMRjTnFP0idbFb",
      "include_colab_link": true
    },
    "kernelspec": {
      "name": "python3",
      "display_name": "Python 3"
    }
  },
  "cells": [
    {
      "cell_type": "markdown",
      "metadata": {
        "id": "view-in-github",
        "colab_type": "text"
      },
      "source": [
        "<a href=\"https://colab.research.google.com/github/lisseta/edd_1310_2021/blob/master/J29Octubre_1310.ipynb\" target=\"_parent\"><img src=\"https://colab.research.google.com/assets/colab-badge.svg\" alt=\"Open In Colab\"/></a>"
      ]
    },
    {
      "cell_type": "code",
      "metadata": {
        "id": "idlczydl6EAM",
        "outputId": "aa7d7de9-39e8-4c1f-8512-e363934f4d21",
        "colab": {
          "base_uri": "https://localhost:8080/",
          "height": 129
        }
      },
      "source": [
        "class Array:\n",
        "    def__init__(self , tam):\n",
        "    self.__info = [0 for x in range(tam)]\n",
        "\n",
        "    def get_item(self , posicion ) :\n",
        "        dato = -1\n",
        "        try:\n",
        "            dato = self.__info[ posicion ]\n",
        "        except Exception as e:\n",
        "            print(\"Error de posición\")\n",
        "            return dato\n",
        "\n",
        "    def set_item( self , dato , posicion):\n",
        "        try:\n",
        "            self.__info[posicion] = dato\n",
        "        except Exception as e :\n",
        "            print(\"Error de posicion\")\n",
        "\n",
        "        def get_lenght( self):\n",
        "            return len(self.__info )\n",
        "\n",
        "        def clear(self, dato ) :\n",
        "            self._info = [dato for x in range(len(self._info)) ]\n",
        "\n",
        "        def iter_( self ):\n",
        "            return_IteradorArreglo(self.__info )\n",
        "\n",
        "\n",
        "class _Iteradorarreglo:\n",
        "\n",
        "    def_init_(self , arr)\n",
        "    self.__arr = arr\n",
        "    self.__indice = 0\n",
        "\n",
        "    def _iter_(self):\n",
        "        return self\n",
        "\n",
        "\n",
        "    def _next_( self ) :\n",
        "        if self ._indice < len(self._arr):\n",
        "            dato = self._arr[self._indice]\n",
        "            drlf.__indice +=1\n",
        "            return dato\n",
        "        else:\n",
        "            raise StopIteration\n",
        "\n",
        "algo = Array(10)\n",
        "print(algo.get_item(6363))\n",
        "algo.set_item()\n",
        "print(algo.get_item(3))\n",
        "print(f \"El arreglo tiene {algo.get_lenght() } elementos\")\n",
        "algo.clear(777)\n",
        "print(\"---------------\")\n",
        "for x in alfo:\n",
        "    print( x )"
      ],
      "execution_count": 3,
      "outputs": [
        {
          "output_type": "error",
          "ename": "SyntaxError",
          "evalue": "ignored",
          "traceback": [
            "\u001b[0;36m  File \u001b[0;32m\"<ipython-input-3-86bbeb134545>\"\u001b[0;36m, line \u001b[0;32m2\u001b[0m\n\u001b[0;31m    def__init__(self , tam):\u001b[0m\n\u001b[0m                            ^\u001b[0m\n\u001b[0;31mSyntaxError\u001b[0m\u001b[0;31m:\u001b[0m invalid syntax\n"
          ]
        }
      ]
    }
  ]
}