{
  "nbformat": 4,
  "nbformat_minor": 0,
  "metadata": {
    "colab": {
      "name": "J14Enero_1310.ipynb",
      "provenance": [],
      "authorship_tag": "ABX9TyMbyw4r4pzyjw5ApY8l/FyV",
      "include_colab_link": true
    },
    "kernelspec": {
      "name": "python3",
      "display_name": "Python 3"
    }
  },
  "cells": [
    {
      "cell_type": "markdown",
      "metadata": {
        "id": "view-in-github",
        "colab_type": "text"
      },
      "source": [
        "<a href=\"https://colab.research.google.com/github/lisseta/edd_1310_2021/blob/master/J14Enero_1310.ipynb\" target=\"_parent\"><img src=\"https://colab.research.google.com/assets/colab-badge.svg\" alt=\"Open In Colab\"/></a>"
      ]
    },
    {
      "cell_type": "code",
      "metadata": {
        "colab": {
          "base_uri": "https://localhost:8080/"
        },
        "id": "tlqeIOpy2IO8",
        "outputId": "cacc151f-449e-4126-d960-ba80056d7be8"
      },
      "source": [
        "class NodoArbol:\r\n",
        "  def __init__(self, value, left=None, right=None):\r\n",
        "    self.data=value\r\n",
        "    self.left=left\r\n",
        "    self.right=right\r\n",
        "\r\n",
        "arbol=NodoArbol(\"R\", NodoArbol(\"C\"), NodoArbol(\"H\"))\r\n",
        "print(arbol.left.data)\r\n",
        "print(arbol.right.data)\r\n",
        "print(arbol.data)\r\n",
        "    "
      ],
      "execution_count": 1,
      "outputs": [
        {
          "output_type": "stream",
          "text": [
            "C\n",
            "H\n",
            "R\n"
          ],
          "name": "stdout"
        }
      ]
    },
    {
      "cell_type": "code",
      "metadata": {
        "colab": {
          "base_uri": "https://localhost:8080/"
        },
        "id": "nE9SgLeoF8cs",
        "outputId": "b61b9c39-5858-4eab-e850-5df0203ec89e"
      },
      "source": [
        "class NodoArbol:\r\n",
        "  def __init__(self, value, left=None, right=None):\r\n",
        "    self.data=value\r\n",
        "    self.left=left\r\n",
        "    self.right=right\r\n",
        "\r\n",
        "arbol=NodoArbol(\"R\", NodoArbol(\"C\",None,None), NodoArbol(\"H\",None,None))\r\n",
        "print(arbol.left.data)\r\n",
        "print(arbol.right.data)\r\n",
        "print(arbol.data)"
      ],
      "execution_count": 2,
      "outputs": [
        {
          "output_type": "stream",
          "text": [
            "C\n",
            "H\n",
            "R\n"
          ],
          "name": "stdout"
        }
      ]
    },
    {
      "cell_type": "code",
      "metadata": {
        "colab": {
          "base_uri": "https://localhost:8080/"
        },
        "id": "Aml5LMiIH73b",
        "outputId": "6b0a4cf8-510b-4f81-fa7b-13fba00594ad"
      },
      "source": [
        "arbol2 = NodoArbol(4, NodoArbol(3 , NodoArbol (2 , NodoArbol(2)) ),NodoArbol(5) )\r\n",
        "\r\n",
        "print(arbol2.left.left.left.data)"
      ],
      "execution_count": 3,
      "outputs": [
        {
          "output_type": "stream",
          "text": [
            "2\n"
          ],
          "name": "stdout"
        }
      ]
    },
    {
      "cell_type": "markdown",
      "metadata": {
        "id": "XgAS7dZ9JIT4"
      },
      "source": [
        "#ÁRBOL BINARIO\r\n",
        "##Se hace uso de la Recursividad"
      ]
    },
    {
      "cell_type": "code",
      "metadata": {
        "id": "uFVPDduLIlKQ"
      },
      "source": [
        ""
      ],
      "execution_count": null,
      "outputs": []
    }
  ]
}