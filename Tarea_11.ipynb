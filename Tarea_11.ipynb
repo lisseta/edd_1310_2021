{
  "nbformat": 4,
  "nbformat_minor": 0,
  "metadata": {
    "colab": {
      "name": "Tarea 11.ipynb",
      "provenance": [],
      "collapsed_sections": [],
      "authorship_tag": "ABX9TyNxixCmOLAR4zuISfWC23CI",
      "include_colab_link": true
    },
    "kernelspec": {
      "name": "python3",
      "display_name": "Python 3"
    }
  },
  "cells": [
    {
      "cell_type": "markdown",
      "metadata": {
        "id": "view-in-github",
        "colab_type": "text"
      },
      "source": [
        "<a href=\"https://colab.research.google.com/github/lisseta/edd_1310_2021/blob/master/Tarea_11.ipynb\" target=\"_parent\"><img src=\"https://colab.research.google.com/assets/colab-badge.svg\" alt=\"Open In Colab\"/></a>"
      ]
    },
    {
      "cell_type": "markdown",
      "metadata": {
        "id": "NQMfeV2MuHhm"
      },
      "source": [
        "1.- Hacer una función recurso que dado un número entero positivo, imprima a la salida una cuenta regresiva hasta cero."
      ]
    },
    {
      "cell_type": "code",
      "metadata": {
        "colab": {
          "base_uri": "https://localhost:8080/"
        },
        "id": "YRIIIGddt5LR",
        "outputId": "be744961-d6cb-40d8-822b-bd480df31485"
      },
      "source": [
        "numeros=10\r\n",
        "for x in range(numeros):\r\n",
        "  print(numeros)\r\n",
        "  numeros-=1\r\n",
        "  if(numeros==0):\r\n",
        "    print(numeros)\r\n",
        "    print(\"Terminamos\")\r\n",
        "\r\n"
      ],
      "execution_count": null,
      "outputs": [
        {
          "output_type": "stream",
          "text": [
            "10\n",
            "9\n",
            "8\n",
            "7\n",
            "6\n",
            "5\n",
            "4\n",
            "3\n",
            "2\n",
            "1\n",
            "0\n",
            "Terminamos\n"
          ],
          "name": "stdout"
        }
      ]
    },
    {
      "cell_type": "code",
      "metadata": {
        "colab": {
          "base_uri": "https://localhost:8080/"
        },
        "id": "VscIE3HHxwKn",
        "outputId": "9e2da656-3fc1-47cd-8de5-11ef7a3018bf"
      },
      "source": [
        "def cuenta_regresiva(numero):\r\n",
        "     numero -= 1\r\n",
        "     if numero > 0:\r\n",
        "         print (numero)\r\n",
        "         cuenta_regresiva(numero)\r\n",
        "     else:\r\n",
        "         print (\"¡Boooooooom!\")\r\n",
        "     print(numero)\r\n",
        "\r\n",
        "cuenta_regresiva(10)\r\n"
      ],
      "execution_count": null,
      "outputs": [
        {
          "output_type": "stream",
          "text": [
            "9\n",
            "8\n",
            "7\n",
            "6\n",
            "5\n",
            "4\n",
            "3\n",
            "2\n",
            "1\n",
            "¡Boooooooom!\n",
            "0\n",
            "1\n",
            "2\n",
            "3\n",
            "4\n",
            "5\n",
            "6\n",
            "7\n",
            "8\n",
            "9\n"
          ],
          "name": "stdout"
        }
      ]
    },
    {
      "cell_type": "markdown",
      "metadata": {
        "id": "4-g1JNY2uMpD"
      },
      "source": [
        "2.- Hacer una función recursiva que reciba de entrada una pila con al menos 3 elementos y con recursividad elimine el elemento en la posición media."
      ]
    },
    {
      "cell_type": "code",
      "metadata": {
        "colab": {
          "base_uri": "https://localhost:8080/"
        },
        "id": "YK9tBhbL5uOX",
        "outputId": "39ca8570-27ed-44d3-b70a-45a6b21bdb2b"
      },
      "source": [
        "#Eliminar el elemento medio \r\n",
        "\r\n",
        "musica=[\"jazz\", \"rock\", \"pop\", \"indie\"]\r\n",
        "\r\n",
        "for music in musica:\r\n",
        "  if \"rock\" in music:\r\n",
        "    musica.remove(music)\r\n",
        "\r\n",
        "    print(musica)"
      ],
      "execution_count": null,
      "outputs": [
        {
          "output_type": "stream",
          "text": [
            "['jazz', 'pop', 'indie']\n"
          ],
          "name": "stdout"
        }
      ]
    },
    {
      "cell_type": "code",
      "metadata": {
        "id": "YsuWQPBya1to",
        "colab": {
          "base_uri": "https://localhost:8080/",
          "height": 877
        },
        "outputId": "5ba04e31-1cf0-4f32-ba0e-bcd1776363e5"
      },
      "source": [
        "class Deleting:\r\n",
        "    def __init__(self):\r\n",
        "        self.__data= []\r\n",
        "        \r\n",
        "\r\n",
        "    def is_empty(self):\r\n",
        "        return len(self.__data)==0\r\n",
        "\r\n",
        "    def length(self):\r\n",
        "        return len(self.__data)\r\n",
        "\r\n",
        "    def pop(self):\r\n",
        "        if self.is_empty():\r\n",
        "            print(\"Fila vacia\")\r\n",
        "        else:\r\n",
        "            return self.__data.pop()\r\n",
        "    def push(self,value):\r\n",
        "        self.__data.append(value)\r\n",
        "\r\n",
        "    def peek(self):\r\n",
        "        return self.__data[len(self.__data)-1]\r\n",
        "\r\n",
        "    def to_string(self):\r\n",
        "        print(\"-----\")\r\n",
        "        for item in self.__data[::-1]: \r\n",
        "            print(f\"| {item} |\")\r\n",
        "            print(\"-----\")\r\n",
        "\r\n",
        "    def delete(pila, size, curr) :\r\n",
        "        if (pila.is_empty() or curr == size) :\r\n",
        "            return\r\n",
        "        x = pila.peek()\r\n",
        "        pila.pop()\r\n",
        "        delete (pila, size, curr+1)\r\n",
        "        m=(size/2)\r\n",
        "        if m == int(m):\r\n",
        "            if (curr != m and curr != (m-1)):\r\n",
        "                pila.push(x)\r\n",
        "        else:\r\n",
        "            if (curr != int(size/2)) :\r\n",
        "               pila.push(x)\r\n",
        "\r\n",
        "\r\n",
        "def main2():\r\n",
        "    s = Stack()\r\n",
        "    s.push('1')\r\n",
        "    s.push('1')\r\n",
        "    s.push('1')\r\n",
        "    s.push('0')\r\n",
        "    s.push('1')\r\n",
        "    s.push('1')\r\n",
        "    s.push('1')\r\n",
        "    print(\"---Pila de unos ---\")\r\n",
        "    s.to_string()\r\n",
        "    print('---> Eliminar elemento diferente <---')\r\n",
        "\r\n",
        "    print(\"---Así queda---\")\r\n",
        "    #delete(s, s.length(), 0)\r\n",
        "    s.to_string()\r\n",
        "    delete (s, s.length(), [0])\r\n",
        "    s.to_string()\r\n",
        "\r\n",
        "main2()"
      ],
      "execution_count": 15,
      "outputs": [
        {
          "output_type": "stream",
          "text": [
            "---Pila de unos ---\n",
            "-----\n",
            "| 1 |\n",
            "-----\n",
            "| 1 |\n",
            "-----\n",
            "| 1 |\n",
            "-----\n",
            "| 0 |\n",
            "-----\n",
            "| 1 |\n",
            "-----\n",
            "| 1 |\n",
            "-----\n",
            "| 1 |\n",
            "-----\n",
            "---> Eliminar elemento diferente <---\n",
            "---Así queda---\n",
            "-----\n",
            "| 1 |\n",
            "-----\n",
            "| 1 |\n",
            "-----\n",
            "| 1 |\n",
            "-----\n",
            "| 0 |\n",
            "-----\n",
            "| 1 |\n",
            "-----\n",
            "| 1 |\n",
            "-----\n",
            "| 1 |\n",
            "-----\n"
          ],
          "name": "stdout"
        },
        {
          "output_type": "error",
          "ename": "NameError",
          "evalue": "ignored",
          "traceback": [
            "\u001b[0;31m---------------------------------------------------------------------------\u001b[0m",
            "\u001b[0;31mNameError\u001b[0m                                 Traceback (most recent call last)",
            "\u001b[0;32m<ipython-input-15-972e08b15b0c>\u001b[0m in \u001b[0;36m<module>\u001b[0;34m()\u001b[0m\n\u001b[1;32m     61\u001b[0m     \u001b[0ms\u001b[0m\u001b[0;34m.\u001b[0m\u001b[0mto_string\u001b[0m\u001b[0;34m(\u001b[0m\u001b[0;34m)\u001b[0m\u001b[0;34m\u001b[0m\u001b[0;34m\u001b[0m\u001b[0m\n\u001b[1;32m     62\u001b[0m \u001b[0;34m\u001b[0m\u001b[0m\n\u001b[0;32m---> 63\u001b[0;31m \u001b[0mmain2\u001b[0m\u001b[0;34m(\u001b[0m\u001b[0;34m)\u001b[0m\u001b[0;34m\u001b[0m\u001b[0;34m\u001b[0m\u001b[0m\n\u001b[0m",
            "\u001b[0;32m<ipython-input-15-972e08b15b0c>\u001b[0m in \u001b[0;36mmain2\u001b[0;34m()\u001b[0m\n\u001b[1;32m     58\u001b[0m     \u001b[0;31m#delete(s, s.length(), 0)\u001b[0m\u001b[0;34m\u001b[0m\u001b[0;34m\u001b[0m\u001b[0;34m\u001b[0m\u001b[0m\n\u001b[1;32m     59\u001b[0m     \u001b[0ms\u001b[0m\u001b[0;34m.\u001b[0m\u001b[0mto_string\u001b[0m\u001b[0;34m(\u001b[0m\u001b[0;34m)\u001b[0m\u001b[0;34m\u001b[0m\u001b[0;34m\u001b[0m\u001b[0m\n\u001b[0;32m---> 60\u001b[0;31m     \u001b[0mdelete\u001b[0m \u001b[0;34m(\u001b[0m\u001b[0ms\u001b[0m\u001b[0;34m,\u001b[0m \u001b[0ms\u001b[0m\u001b[0;34m.\u001b[0m\u001b[0mlength\u001b[0m\u001b[0;34m(\u001b[0m\u001b[0;34m)\u001b[0m\u001b[0;34m,\u001b[0m \u001b[0;34m[\u001b[0m\u001b[0;36m0\u001b[0m\u001b[0;34m]\u001b[0m\u001b[0;34m)\u001b[0m\u001b[0;34m\u001b[0m\u001b[0;34m\u001b[0m\u001b[0m\n\u001b[0m\u001b[1;32m     61\u001b[0m     \u001b[0ms\u001b[0m\u001b[0;34m.\u001b[0m\u001b[0mto_string\u001b[0m\u001b[0;34m(\u001b[0m\u001b[0;34m)\u001b[0m\u001b[0;34m\u001b[0m\u001b[0;34m\u001b[0m\u001b[0m\n\u001b[1;32m     62\u001b[0m \u001b[0;34m\u001b[0m\u001b[0m\n",
            "\u001b[0;31mNameError\u001b[0m: name 'delete' is not defined"
          ]
        }
      ]
    }
  ]
}