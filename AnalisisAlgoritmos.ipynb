{
  "nbformat": 4,
  "nbformat_minor": 0,
  "metadata": {
    "colab": {
      "name": "AnalisisAlgoritmos.ipynb",
      "provenance": [],
      "authorship_tag": "ABX9TyMEx7qCiV/Npj5cweIegOV6",
      "include_colab_link": true
    },
    "kernelspec": {
      "name": "python3",
      "display_name": "Python 3"
    }
  },
  "cells": [
    {
      "cell_type": "markdown",
      "metadata": {
        "id": "view-in-github",
        "colab_type": "text"
      },
      "source": [
        "<a href=\"https://colab.research.google.com/github/lisseta/edd_1310_2021/blob/master/AnalisisAlgoritmos.ipynb\" target=\"_parent\"><img src=\"https://colab.research.google.com/assets/colab-badge.svg\" alt=\"Open In Colab\"/></a>"
      ]
    },
    {
      "cell_type": "markdown",
      "metadata": {
        "id": "rCge4NLGweVN"
      },
      "source": [
        "#El problema de los Huevos \r\n",
        "\r\n",
        "Sea x el piso de un edificio a partir del cual si aviento un huevo, este se rompe en el piso. Encontrar un algoritmo que encuentre x, en un edificio de n pisos en el menor tiempo posible.\r\n"
      ]
    },
    {
      "cell_type": "markdown",
      "metadata": {
        "id": "iQUaL3RKwWtH"
      },
      "source": [
        "#IDEA 1\r\n",
        "\r\n",
        "1. Empezamos a lanzar el huevo desde el piso x, se puede o no romper; si no rompe, subimos al siguiente piso y hacemos lo mismo .  \r\n",
        "(Es repetitivo hasta que el huevo se logre romper)\r\n",
        "\r\n",
        "2. Tomar el tiempo \r\n",
        "3. Identificar el piso\r\n",
        "\r\n",
        "\r\n"
      ]
    },
    {
      "cell_type": "markdown",
      "metadata": {
        "id": "K3Yti3H509-_"
      },
      "source": [
        "#IDEA 2 \r\n",
        "\r\n",
        "1. Tenemos un edificio con un numero indeterminado de pisos\r\n",
        "2. Lanzamos un huevo\r\n",
        "3. El huevo se rompe\r\n",
        "**El huevo, puede romperse desde cualquiera de los pisos\r\n",
        "4. Tomar el tiempo  en el que se rompe el huevo, desde el piso que fue lanzado \r\n",
        "\r\n",
        "5. \r\n",
        "\r\n",
        "6. Calcular el máximo de pisos que tiene el edificio, dependiendo el tiempo transcurrido en caer\r\n",
        "7. Si solo tenemos un huevo, es evidente que el numero maximo de pisos es igual al numero de huevos\r\n",
        "8. Por otro lado, si podemos romper todos los huevos, es posible, encontrar más pisos\r\n",
        "----\r\n",
        "**5. Si el huevo no se rompe, entonces no puede romperse desde cualquiera de los otros pisos \r\n",
        "\r\n",
        "\r\n",
        " \r\n",
        "\r\n"
      ]
    },
    {
      "cell_type": "code",
      "metadata": {
        "id": "233lPp4R4-bC"
      },
      "source": [
        ""
      ],
      "execution_count": null,
      "outputs": []
    }
  ]
}