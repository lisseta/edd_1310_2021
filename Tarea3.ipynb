{
  "nbformat": 4,
  "nbformat_minor": 0,
  "metadata": {
    "colab": {
      "name": "Tarea3.ipynb",
      "provenance": [],
      "authorship_tag": "ABX9TyNHcECiNKzDN9nzvbo8G+BF",
      "include_colab_link": true
    },
    "kernelspec": {
      "name": "python3",
      "display_name": "Python 3"
    }
  },
  "cells": [
    {
      "cell_type": "markdown",
      "metadata": {
        "id": "view-in-github",
        "colab_type": "text"
      },
      "source": [
        "<a href=\"https://colab.research.google.com/github/lisseta/edd_1310_2021/blob/master/Tarea3.ipynb\" target=\"_parent\"><img src=\"https://colab.research.google.com/assets/colab-badge.svg\" alt=\"Open In Colab\"/></a>"
      ]
    },
    {
      "cell_type": "code",
      "metadata": {
        "id": "cnmGDRCWAsL0",
        "outputId": "35f8ddfd-f3aa-4cb5-bb08-fc002f2326be",
        "colab": {
          "base_uri": "https://localhost:8080/",
          "height": 102
        }
      },
      "source": [
        "class Persona:\n",
        "  #ATRIBUTOS\n",
        "  def __init__(self, n, e, es): #<-Este es el CONSTRUCTOR\n",
        "    self.__nombre= n\n",
        "    self.__edad= e\n",
        "    self.__estatura= es\n",
        "    print(\"CREANDO LA PERSONA\")\n",
        "\n",
        "  def to_string( self ):\n",
        "      return \"Nombre:\" +self.__nombre+ \"Edad:\" +self.__edad+ \"Estatura:\" +self.__estatura \n",
        "  \n",
        "\n",
        "la_persona = Persona(\"Lizeth Evelyn\\n\",\"19 años\\n\", \"1.56\\n\")\n",
        "print(la_persona.to_string())    \n",
        "\n",
        " \n",
        "  #MÉTODOS\n",
        "def dormir(self):\n",
        " return \"Por el momento estoy durmiendo\" \n",
        "#print(la_persona.dormir())  \n",
        "\n",
        "def comer(self):\n",
        "  return \"Estoy comiendo manzana\" \n",
        "    #print(la_persona.comer())\n",
        "\n",
        "def hablar(self):\n",
        "  return \"Estoy hablando en inglés\" \n",
        "    #print(la_persona.hablar())      \n",
        "\n",
        "#la_persona = Persona(\"Estoy durmiendo\", \"Yo como manzana\", \"Hablo en inglés\")\n",
        "#print(\"CREANDO LOS MÉTODOS\")\n",
        "#print(la_persona.dormir())\n",
        "#print(la_persona.comer()) \n",
        "#print(la_persona.hablar())"
      ],
      "execution_count": 51,
      "outputs": [
        {
          "output_type": "stream",
          "text": [
            "CREANDO LA PERSONA\n",
            "Nombre:Lizeth Evelyn\n",
            "Edad:19 años\n",
            "Estatura:1.56\n",
            "\n"
          ],
          "name": "stdout"
        }
      ]
    },
    {
      "cell_type": "code",
      "metadata": {
        "id": "Mlep0Nw-Evh_",
        "outputId": "50966189-7cb8-4311-a1e8-95a2ca313126",
        "colab": {
          "base_uri": "https://localhost:8080/",
          "height": 333
        }
      },
      "source": [
        "class Persona:\n",
        "  #ATRIBUTOS\n",
        "  def __init__(self, n, e, es): \n",
        "    self.__nombre= n\n",
        "    self.__edad= e\n",
        "    self.__estatura= es\n",
        "    print(\"CREANDO LA PERSONA\")\n",
        "\n",
        "  def to_string( self ):\n",
        "      return \"Nombre:\" +self.__nombre+ \"Edad:\" +self.__edad+ \"Estatura:\" +self.__estatura \n",
        "  \n",
        "\n",
        "la_persona = Persona(\"Lizeth Evelyn\\n\",\"19 años\\n\", \"1.56\\n\")\n",
        "print(la_persona.to_string())\n",
        "\n",
        "print(\"¿QUÉ ESTA HACIENDO LA PERSONA?\")\n",
        "def __init__(self, d, c,): \n",
        "    self.__dormir= d\n",
        "    self.__comer= c\n",
        "\n",
        "def to_string(self):\n",
        "  return \"Dormir\" +self.__dormir+ \"Comer\" +self.__comer\n",
        "\n",
        "metodos = Persona(\"Ella duerme a las 11:30\", \"Ella come una manzana\")\n",
        "print(metodos.to_string())\n",
        "\n",
        "  \n",
        "#metodos= Hacer(\"Ella duerme a las 11:30\", \"Ella come una manzana\", \"Ella habla en ingles\")\n"
      ],
      "execution_count": 69,
      "outputs": [
        {
          "output_type": "stream",
          "text": [
            "CREANDO LA PERSONA\n",
            "Nombre:Lizeth Evelyn\n",
            "Edad:19 años\n",
            "Estatura:1.56\n",
            "\n",
            "¿QUÉ ESTA HACIENDO LA PERSONA?\n"
          ],
          "name": "stdout"
        },
        {
          "output_type": "error",
          "ename": "TypeError",
          "evalue": "ignored",
          "traceback": [
            "\u001b[0;31m---------------------------------------------------------------------------\u001b[0m",
            "\u001b[0;31mTypeError\u001b[0m                                 Traceback (most recent call last)",
            "\u001b[0;32m<ipython-input-69-dd5b32b54188>\u001b[0m in \u001b[0;36m<module>\u001b[0;34m()\u001b[0m\n\u001b[1;32m     22\u001b[0m   \u001b[0;32mreturn\u001b[0m \u001b[0;34m\"Dormir\"\u001b[0m \u001b[0;34m+\u001b[0m\u001b[0mself\u001b[0m\u001b[0;34m.\u001b[0m\u001b[0m__dormir\u001b[0m\u001b[0;34m+\u001b[0m \u001b[0;34m\"Comer\"\u001b[0m \u001b[0;34m+\u001b[0m\u001b[0mself\u001b[0m\u001b[0;34m.\u001b[0m\u001b[0m__comer\u001b[0m\u001b[0;34m\u001b[0m\u001b[0;34m\u001b[0m\u001b[0m\n\u001b[1;32m     23\u001b[0m \u001b[0;34m\u001b[0m\u001b[0m\n\u001b[0;32m---> 24\u001b[0;31m \u001b[0mmetodos\u001b[0m \u001b[0;34m=\u001b[0m \u001b[0mPersona\u001b[0m\u001b[0;34m(\u001b[0m\u001b[0;34m\"Ella duerme a las 11:30\"\u001b[0m\u001b[0;34m,\u001b[0m \u001b[0;34m\"Ella come una manzana\"\u001b[0m\u001b[0;34m)\u001b[0m\u001b[0;34m\u001b[0m\u001b[0;34m\u001b[0m\u001b[0m\n\u001b[0m\u001b[1;32m     25\u001b[0m \u001b[0mprint\u001b[0m\u001b[0;34m(\u001b[0m\u001b[0mmetodos\u001b[0m\u001b[0;34m.\u001b[0m\u001b[0mto_string\u001b[0m\u001b[0;34m(\u001b[0m\u001b[0;34m)\u001b[0m\u001b[0;34m)\u001b[0m\u001b[0;34m\u001b[0m\u001b[0;34m\u001b[0m\u001b[0m\n\u001b[1;32m     26\u001b[0m \u001b[0;34m\u001b[0m\u001b[0m\n",
            "\u001b[0;31mTypeError\u001b[0m: __init__() missing 1 required positional argument: 'es'"
          ]
        }
      ]
    },
    {
      "cell_type": "code",
      "metadata": {
        "id": "S9JPCZNfZHaB",
        "outputId": "d8537e69-97f1-4d33-f38d-f86b949da04a",
        "colab": {
          "base_uri": "https://localhost:8080/",
          "height": 119
        }
      },
      "source": [
        "class Celular:\n",
        "  def __init__(self, Marca, Modelo):\n",
        "    self.__Marca = Marca\n",
        "    self.__Modelo = Modelo\n",
        "    print(\"CREANDO EL CELULAR\")\n",
        "\n",
        "  def to_string(self):\n",
        "    return \"Marca:\" +self.__Marca+ \"Modelo:\" +self.__Modelo\n",
        "\n",
        "  def llamar(self):\n",
        "    return \"Estoy llamando en este momento\"\n",
        "\n",
        "  def reproducirMedios (self):\n",
        "    return \"Estoy reproduciendo un video\"\n",
        "\n",
        "mi_celular= Celular (\"Motorola\\n\", \"G7 Play\\n\")\n",
        "print(mi_celular.to_string())\n",
        "print(mi_celular.llamar())\n",
        "print(mi_celular.reproducirMedios())\n",
        "\n"
      ],
      "execution_count": 73,
      "outputs": [
        {
          "output_type": "stream",
          "text": [
            "CREANDO EL CELULAR\n",
            "Marca:Motorola\n",
            "Modelo:G7 Play\n",
            "\n",
            "Estoy llamando en este momento\n",
            "Estoy reproduciendo un video\n"
          ],
          "name": "stdout"
        }
      ]
    },
    {
      "cell_type": "code",
      "metadata": {
        "id": "-fs7RqLtbqp3",
        "outputId": "9f77f8b1-6a63-4c70-e65f-265200b52aad",
        "colab": {
          "base_uri": "https://localhost:8080/",
          "height": 119
        }
      },
      "source": [
        "class Persona:\n",
        "  def __init__(self, n, e, es): \n",
        "    self.__nombre= n\n",
        "    self.__edad= e\n",
        "    self.__estatura= es\n",
        "    print(\"CREANDO LA PERSONA\")\n",
        "\n",
        "  def to_string( self ):\n",
        "      return \"Nombre:\" +self.__nombre+ \"Edad:\" +self.__edad+ \"Estatura:\" +self.__estatura \n",
        "\n",
        "  def dormir(self):\n",
        "    return \"Yo duermo a las 11:30pm\"\n",
        "\n",
        "  def comer(self):\n",
        "    return \"Yo como una manzana\"\n",
        "\n",
        "\n",
        "la_persona= Persona (\"Lizeth Evelyn\\n\", \"19 años\\n\", \"1.56\")\n",
        "print(la_persona.to_string())\n",
        "\n",
        "print(la_persona.dormir())\n",
        "print(la_persona.comer())     \n"
      ],
      "execution_count": 80,
      "outputs": [
        {
          "output_type": "stream",
          "text": [
            "CREANDO LA PERSONA\n",
            "Nombre:Lizeth Evelyn\n",
            "Edad:19 años\n",
            "Estatura:1.56\n",
            "Yo duermo a las 11:30pm\n",
            "Yo como una manzana\n"
          ],
          "name": "stdout"
        }
      ]
    }
  ]
}