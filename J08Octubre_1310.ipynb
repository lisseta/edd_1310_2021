{
  "nbformat": 4,
  "nbformat_minor": 0,
  "metadata": {
    "colab": {
      "name": "J08Octubre_1310.ipynb",
      "provenance": [],
      "authorship_tag": "ABX9TyOnI1R58Rv1+NFrHpLLkW4+",
      "include_colab_link": true
    },
    "kernelspec": {
      "name": "python3",
      "display_name": "Python 3"
    }
  },
  "cells": [
    {
      "cell_type": "markdown",
      "metadata": {
        "id": "view-in-github",
        "colab_type": "text"
      },
      "source": [
        "<a href=\"https://colab.research.google.com/github/lisseta/edd_1310_2021/blob/master/J08Octubre_1310.ipynb\" target=\"_parent\"><img src=\"https://colab.research.google.com/assets/colab-badge.svg\" alt=\"Open In Colab\"/></a>"
      ]
    },
    {
      "cell_type": "code",
      "metadata": {
        "id": "oWQaihBS7HBc",
        "outputId": "ace872a6-8b4d-4996-edac-18f47dd731be",
        "colab": {
          "base_uri": "https://localhost:8080/",
          "height": 119
        }
      },
      "source": [
        "#Lista Multi Dimensión\n",
        "monitores =[[\"Samsung\",\"17.3 \\\"\",1024],[\"BenQ\",\"40\\\"\",2048]]\n",
        "procesadores = [[\"Intel\",\"i7\",3.4],[\"AMD\",\"razzer\",3.3],[\"Intel\",\"i3\",3.1]]\n",
        "memorias = [[\"Kingston\", \"8GB\",\"DDR4\"],[\"Kingston\", \"16GB\",\"DDR3\"],[\"ADATA\", \"32GB\",\"DDR4\"]]\n",
        "\n",
        "componentes = [monitores,procesadores,memorias]\n",
        "print(componentes[1])\n",
        "print(componentes[2][1][1])\n",
        "print(int(componentes[0][1][2])*2) #Tomar el valor y multiplicarlo x2\n",
        "print(componentes[1][1][1][1:4:1]) \n",
        "print(componentes[2][2][0].lower()) #ADATA\n",
        "\n",
        "#componentes[2].append[(\"NoEncontrada\",\"32 GB\",\"DDR4\")]\n",
        "print(componentes[2])\n"
      ],
      "execution_count": 19,
      "outputs": [
        {
          "output_type": "stream",
          "text": [
            "[['Intel', 'i7', 3.4], ['AMD', 'razzer', 3.3], ['Intel', 'i3', 3.1]]\n",
            "16GB\n",
            "4096\n",
            "azz\n",
            "adata\n",
            "[['Kingston', '8GB', 'DDR4'], ['Kingston', '16GB', 'DDR3'], ['ADATA', '32GB', 'DDR4']]\n"
          ],
          "name": "stdout"
        }
      ]
    },
    {
      "cell_type": "code",
      "metadata": {
        "id": "92WmAz2BH4ir",
        "outputId": "f7615273-0060-47d2-aa4b-666a1a660aee",
        "colab": {
          "base_uri": "https://localhost:8080/",
          "height": 51
        }
      },
      "source": [
        "#Extender Listas\n",
        "frutas=[\"manzana\", \"pera\"]\n",
        "otras_frutas=[\"platano\", \"sandia\"]\n",
        "\n",
        "\n",
        "# + SOBRE LISTAS\n",
        "frutas=frutas+otras_frutas\n",
        "\n",
        "\n",
        "#Función EXTEND()\n",
        "frutas.extend(otras_frutas)\n",
        "print(frutas)\n",
        "\n",
        "frutas.append(otras_frutas)\n",
        "print(frutas)"
      ],
      "execution_count": 20,
      "outputs": [
        {
          "output_type": "stream",
          "text": [
            "['manzana', 'pera', 'platano', 'sandia', 'platano', 'sandia']\n",
            "['manzana', 'pera', 'platano', 'sandia', 'platano', 'sandia', ['platano', 'sandia']]\n"
          ],
          "name": "stdout"
        }
      ]
    },
    {
      "cell_type": "code",
      "metadata": {
        "id": "O8XkQOvQLF1k",
        "outputId": "cf887ca4-0ae7-45d5-9bee-fba12bfc4fc3",
        "colab": {
          "base_uri": "https://localhost:8080/",
          "height": 85
        }
      },
      "source": [
        "#Copiar Listas \n",
        "colores=[\"azul\",\"rojo\",\"verde\",\"violeta\"]\n",
        "otros_colores= colores  #Hacer una copia de estos colores en otra lista\n",
        "print(colores)\n",
        "print(otros_colores)\n",
        "otros_colores.append(\"Rosa\")\n",
        "print(colores)\n",
        "print(otros_colores) #Esta compartiendo la referencia a la memoria de colores \n",
        "colores=colores.sort # ¡EXTRA! para ordenar alfabeticamente\n",
        "\n",
        "#UNPACKING DE LISTAS\n",
        "#alumno=[\"Lizeth\", \"Hernández\", 20, \"ICO\", 10.0]\n",
        "#nombre=alumno[0]\n",
        "#nombre=alumno[1] \n",
        "#etc...\n",
        "\n",
        "#nombre,paterno,edad, carrera, promedio =alumno\n",
        "\n",
        "\n",
        "\n"
      ],
      "execution_count": 24,
      "outputs": [
        {
          "output_type": "stream",
          "text": [
            "['azul', 'rojo', 'verde', 'violeta']\n",
            "['azul', 'rojo', 'verde', 'violeta']\n",
            "['azul', 'rojo', 'verde', 'violeta', 'Rosa']\n",
            "['azul', 'rojo', 'verde', 'violeta', 'Rosa']\n"
          ],
          "name": "stdout"
        }
      ]
    },
    {
      "cell_type": "code",
      "metadata": {
        "id": "gnqnBKFRPnei",
        "outputId": "1a0e0e12-52c6-4602-f3c4-f0ee9e8b7aab",
        "colab": {
          "base_uri": "https://localhost:8080/",
          "height": 34
        }
      },
      "source": [
        "#UNPACKING DE LISTAS\n",
        "alumno=[\"Lizeth\", \"Hernández\", 20, \"ICO\", 10.0]\n",
        "#nombre=alumno[0]\n",
        "#nombre=alumno[1] \n",
        "#etc...\n",
        "\n",
        "nombre,paterno,edad, carrera, promedio =alumno\n",
        "print(f\"Alumno:{nombre} carrera: { carrera} promedio={promedio}\")"
      ],
      "execution_count": 27,
      "outputs": [
        {
          "output_type": "stream",
          "text": [
            "Alumno:Lizeth carrera: ICO promedio=10.0\n"
          ],
          "name": "stdout"
        }
      ]
    },
    {
      "cell_type": "markdown",
      "metadata": {
        "id": "5sTZW3OhSnog"
      },
      "source": [
        "#Tuplas\n",
        "No son mutables"
      ]
    },
    {
      "cell_type": "code",
      "metadata": {
        "id": "BidCDnxJS0X_",
        "outputId": "f84fb112-4558-40ef-9ef5-a731c9c298bb",
        "colab": {
          "base_uri": "https://localhost:8080/",
          "height": 68
        }
      },
      "source": [
        "#Son una lista de valores constantes\n",
        "\n",
        "precios=(99.9, 49.9, 12.45, 23.3, 67.4, 15.3)\n",
        "print(precios[1])\n",
        "print(precios) #COUNT e INDEX los unicos elementos que tienen las TUPLAS\n",
        "\n",
        "#También aplica el SLICING\n",
        "print(precios[2:4])\n"
      ],
      "execution_count": 31,
      "outputs": [
        {
          "output_type": "stream",
          "text": [
            "49.9\n",
            "(99.9, 49.9, 12.45, 23.3, 67.4, 15.3)\n",
            "(12.45, 23.3)\n"
          ],
          "name": "stdout"
        }
      ]
    },
    {
      "cell_type": "markdown",
      "metadata": {
        "id": "vbklqp1FTu6O"
      },
      "source": [
        "#DICCIONARIOS \n",
        "-Se declaran con {}\n",
        "\n",
        "-Sí son mutables\n",
        "\n",
        "-Conjunto de pares llave:valor\n",
        "\n",
        "-Equivalente a los Objetos JSON de JavaScript\n",
        "\n",
        "\n",
        "\n"
      ]
    },
    {
      "cell_type": "code",
      "metadata": {
        "id": "5OL3O2pJW6HE",
        "outputId": "8b83c588-208d-457c-9420-4013ab7a00b3",
        "colab": {
          "base_uri": "https://localhost:8080/",
          "height": 129
        }
      },
      "source": [
        "\n",
        "alumno {\"num_cta\": 4208143}\n",
        "print(alumno)\n",
        "\n",
        "alumno={\"num_cta\" :4208143, \"carrera\" : \"ICO\"}\n",
        "print(alumno)\n",
        "\n",
        "#La declaración del DICCIONARIO puede ser en multiples líneas, cada uno de los elementos del arreglo puede ir en 1 renglon\n",
        "alumno = { \n",
        "          \"num_cta\" : 303030303 ,\n",
        "          \"carrera\" : \"ICO\",\n",
        "          \"promedio\" : 9.8,\n",
        "          \"materias\" :[\"EDD\",\"CyP\",\"Calidad\",\"Emprendimiento\"],\n",
        "          \"direccion\" : { \n",
        "                            \"calle\":\"rancho seco\",\n",
        "                            \"numero\" : 23 ,\n",
        "                            \"delegacion\" : \"Neza\",\n",
        "                            \"estado\" : {\n",
        "                                        \"id\" : 15 ,\n",
        "                                        \"nombre\" : \"Estado de Máxico\" ,\n",
        "                                        \"nombre_corto\" : \"EdoMex\"\n",
        "                                        } ,\n",
        "                            \"CP\":57170\n",
        "\n",
        "                        } \n",
        "          }"
      ],
      "execution_count": 38,
      "outputs": [
        {
          "output_type": "error",
          "ename": "SyntaxError",
          "evalue": "ignored",
          "traceback": [
            "\u001b[0;36m  File \u001b[0;32m\"<ipython-input-38-d3c09c6ecfdd>\"\u001b[0;36m, line \u001b[0;32m2\u001b[0m\n\u001b[0;31m    alumno {\"num_cta\": 4208143}\u001b[0m\n\u001b[0m           ^\u001b[0m\n\u001b[0;31mSyntaxError\u001b[0m\u001b[0;31m:\u001b[0m invalid syntax\n"
          ]
        }
      ]
    }
  ]
}