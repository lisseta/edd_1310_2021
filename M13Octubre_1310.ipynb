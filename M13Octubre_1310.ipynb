{
  "nbformat": 4,
  "nbformat_minor": 0,
  "metadata": {
    "colab": {
      "name": "M13Octubre_1310.ipynb",
      "provenance": [],
      "authorship_tag": "ABX9TyOG7ojOUgrN7e5wEhRhduXI",
      "include_colab_link": true
    },
    "kernelspec": {
      "name": "python3",
      "display_name": "Python 3"
    }
  },
  "cells": [
    {
      "cell_type": "markdown",
      "metadata": {
        "id": "view-in-github",
        "colab_type": "text"
      },
      "source": [
        "<a href=\"https://colab.research.google.com/github/lisseta/edd_1310_2021/blob/master/M13Octubre_1310.ipynb\" target=\"_parent\"><img src=\"https://colab.research.google.com/assets/colab-badge.svg\" alt=\"Open In Colab\"/></a>"
      ]
    },
    {
      "cell_type": "code",
      "metadata": {
        "id": "fzM5Pgx1umUX",
        "outputId": "0c6bcbea-f2c9-4a1e-e879-ffb7cd73df1a",
        "colab": {
          "base_uri": "https://localhost:8080/",
          "height": 105
        }
      },
      "source": [
        "alumno = { \n",
        "          \"num_cta\" : 303030303 ,\n",
        "          \"carrera\" : \"ICO\",\n",
        "          \"promedio\" : 9.8,\n",
        "          \"materias\" :[\"EDD\",\"CyP\",\"Calidad\",\"Emprendimiento\"],\n",
        "          \"direccion\" : { \n",
        "                            \"calle\":\"rancho seco\",\n",
        "                            \"numero\" : 23 ,\n",
        "                            \"delegacion\" : \"Neza\",\n",
        "                            \"estado\" : {\n",
        "                                        \"id\" : 15 ,\n",
        "                                        \"nombre\" : \"Estado de Máxico\" ,\n",
        "                                        \"nombre_corto\" : \"EdoMex\"\n",
        "                                        } ,\n",
        "                            \"CP\":57170\n",
        "\n",
        "                        } \n",
        "          }\n",
        "print(alumno)  \n",
        "#Hacer modificaciòn de carrera \n",
        "alumno['carrera']   =\"Ingenieria en Computacion\"\n",
        "print(alumno)\n",
        "alumno['nombre_completo']={'primer' : \"Lizeth\",\n",
        "                           'segundo' :\"Evelyn\",\n",
        "                           'materno' : \"Hernàndez\",\n",
        "                           \"paterno\" : \"Piedras\"\n",
        "                          }\n",
        "alumno['semestre']=3\n",
        "print(alumno)\n",
        "\n",
        "print(f\"{alumno['nombre_completo']['primer']} {alumno['nombre_completo']['segundo']}\")   "
      ],
      "execution_count": 12,
      "outputs": [
        {
          "output_type": "stream",
          "text": [
            "{'num_cta': 303030303, 'carrera': 'ICO', 'promedio': 9.8, 'materias': ['EDD', 'CyP', 'Calidad', 'Emprendimiento'], 'direccion': {'calle': 'rancho seco', 'numero': 23, 'delegacion': 'Neza', 'estado': {'id': 15, 'nombre': 'Estado de Máxico', 'nombre_corto': 'EdoMex'}, 'CP': 57170}}\n",
            "{'num_cta': 303030303, 'carrera': 'Ingenieria en Computacion', 'promedio': 9.8, 'materias': ['EDD', 'CyP', 'Calidad', 'Emprendimiento'], 'direccion': {'calle': 'rancho seco', 'numero': 23, 'delegacion': 'Neza', 'estado': {'id': 15, 'nombre': 'Estado de Máxico', 'nombre_corto': 'EdoMex'}, 'CP': 57170}}\n",
            "{'num_cta': 303030303, 'carrera': 'Ingenieria en Computacion', 'promedio': 9.8, 'materias': ['EDD', 'CyP', 'Calidad', 'Emprendimiento'], 'direccion': {'calle': 'rancho seco', 'numero': 23, 'delegacion': 'Neza', 'estado': {'id': 15, 'nombre': 'Estado de Máxico', 'nombre_corto': 'EdoMex'}, 'CP': 57170}, 'nombre_completo': {'primer': 'Lizeth', 'segundo': 'Evelyn', 'materno': 'Hernàndez', 'paterno': 'Piedras'}, 'semestre': 3}\n",
            "Lizeth Evelyn\n"
          ],
          "name": "stdout"
        }
      ]
    },
    {
      "cell_type": "code",
      "metadata": {
        "id": "oudiFJ_u08lA",
        "outputId": "145769f6-b119-439e-cd19-ae715e18375b",
        "colab": {
          "base_uri": "https://localhost:8080/",
          "height": 428
        }
      },
      "source": [
        "#key() , values() y items()\n",
        "\n",
        "llaves = alumno.keys()\n",
        "print(llaves)\n",
        "for llave in llaves:\n",
        "    print(llave.upper())\n",
        "\n",
        "valores = alumno.values()\n",
        "for val in valores:\n",
        "    print(val)\n",
        "\n",
        "pares=alumno.items()\n",
        "print(pares)\n",
        "for elem in pares:\n",
        "  print(f\"el campo { elem[0]} tiene el valor {elem[1]}\")"
      ],
      "execution_count": 13,
      "outputs": [
        {
          "output_type": "stream",
          "text": [
            "dict_keys(['num_cta', 'carrera', 'promedio', 'materias', 'direccion', 'nombre_completo', 'semestre'])\n",
            "NUM_CTA\n",
            "CARRERA\n",
            "PROMEDIO\n",
            "MATERIAS\n",
            "DIRECCION\n",
            "NOMBRE_COMPLETO\n",
            "SEMESTRE\n",
            "303030303\n",
            "Ingenieria en Computacion\n",
            "9.8\n",
            "['EDD', 'CyP', 'Calidad', 'Emprendimiento']\n",
            "{'calle': 'rancho seco', 'numero': 23, 'delegacion': 'Neza', 'estado': {'id': 15, 'nombre': 'Estado de Máxico', 'nombre_corto': 'EdoMex'}, 'CP': 57170}\n",
            "{'primer': 'Lizeth', 'segundo': 'Evelyn', 'materno': 'Hernàndez', 'paterno': 'Piedras'}\n",
            "3\n",
            "dict_items([('num_cta', 303030303), ('carrera', 'Ingenieria en Computacion'), ('promedio', 9.8), ('materias', ['EDD', 'CyP', 'Calidad', 'Emprendimiento']), ('direccion', {'calle': 'rancho seco', 'numero': 23, 'delegacion': 'Neza', 'estado': {'id': 15, 'nombre': 'Estado de Máxico', 'nombre_corto': 'EdoMex'}, 'CP': 57170}), ('nombre_completo', {'primer': 'Lizeth', 'segundo': 'Evelyn', 'materno': 'Hernàndez', 'paterno': 'Piedras'}), ('semestre', 3)])\n",
            "el campo num_cta tiene el valor 303030303\n",
            "el campo carrera tiene el valor Ingenieria en Computacion\n",
            "el campo promedio tiene el valor 9.8\n",
            "el campo materias tiene el valor ['EDD', 'CyP', 'Calidad', 'Emprendimiento']\n",
            "el campo direccion tiene el valor {'calle': 'rancho seco', 'numero': 23, 'delegacion': 'Neza', 'estado': {'id': 15, 'nombre': 'Estado de Máxico', 'nombre_corto': 'EdoMex'}, 'CP': 57170}\n",
            "el campo nombre_completo tiene el valor {'primer': 'Lizeth', 'segundo': 'Evelyn', 'materno': 'Hernàndez', 'paterno': 'Piedras'}\n",
            "el campo semestre tiene el valor 3\n"
          ],
          "name": "stdout"
        }
      ]
    },
    {
      "cell_type": "code",
      "metadata": {
        "id": "O2Rax19Q0-fo",
        "outputId": "e976b788-2fe9-4c53-b040-7c6fce5fa008",
        "colab": {
          "base_uri": "https://localhost:8080/",
          "height": 54
        }
      },
      "source": [
        "computadora={\"procesador\": \"Intel i7\", \"RAM\": \"Kingston 128GB\"}\n",
        "otros={\"monitor\": \"LG 49\",\"HD\":\"Toshiba ITB\"}\n",
        "#computadora += otros -> MARCA ERROR\n",
        "computadora.update(otros)\n",
        "print (computadora)  #-> se tiene que concatenar con uan funciòn llamada update"
      ],
      "execution_count": 2,
      "outputs": [
        {
          "output_type": "stream",
          "text": [
            "{'procesador': 'Intel i7', 'RAM': 'Kingston 128GB', 'monitor': 'LG 49', 'HD': 'Toshiba ITB'}\n"
          ],
          "name": "stdout"
        }
      ]
    },
    {
      "cell_type": "markdown",
      "metadata": {
        "id": "qfSHq_Uy3HTf"
      },
      "source": [
        "#FUNCIONES (MODULARIDAD)\n",
        "*Unidades de còdigo reutilizable\n",
        "\n",
        "*Es un mecanismo de organizacion de còdigo\n",
        "\n",
        "*Una funciòn toma de 0 a n parametros de entrada\n",
        "\n",
        "*Tiene solo una sola salida(return) de cualquier tipo de dato \n",
        "*Solo puedes hacer dos cosas:\n",
        "\n",
        "*   Definirla \n",
        "*   Llamarla\n",
        "\n",
        "\n",
        "*Se definen con la palabra 'def' \n",
        "\n",
        "\n",
        "\n"
      ]
    },
    {
      "cell_type": "code",
      "metadata": {
        "id": "ERqDKHtF4J7r",
        "outputId": "eaea84ea-8705-49ae-e350-152af1142c38",
        "colab": {
          "base_uri": "https://localhost:8080/",
          "height": 129
        }
      },
      "source": [
        "def sumar(x,y):\n",
        "  resultado = x+y \n",
        "  return resultado\n",
        "  print(sumar(10,5))\n",
        "\n",
        "  def saludar (nombre) :\n",
        "    print(f\"Hola {nombre}, ¿Como estas?\")\n",
        "\n",
        "#PROCESAR ·NONE·\n",
        "def multiplicar(valor, veces):\n",
        "  c=valor*veces\n",
        "    c=sumar(3,7)\n",
        "    print (c)\n",
        "    saludar(\"Lizeth\")\n",
        "    print(saludar('Tony'))"
      ],
      "execution_count": 25,
      "outputs": [
        {
          "output_type": "error",
          "ename": "IndentationError",
          "evalue": "ignored",
          "traceback": [
            "\u001b[0;36m  File \u001b[0;32m\"<ipython-input-25-1a51daf99a40>\"\u001b[0;36m, line \u001b[0;32m12\u001b[0m\n\u001b[0;31m    c=sumar(3,7)\u001b[0m\n\u001b[0m    ^\u001b[0m\n\u001b[0;31mIndentationError\u001b[0m\u001b[0;31m:\u001b[0m unexpected indent\n"
          ]
        }
      ]
    },
    {
      "cell_type": "code",
      "metadata": {
        "id": "qV_LEGpl6XXW",
        "outputId": "5ad25d92-e112-4b99-a1b5-546d27bb55a0",
        "colab": {
          "base_uri": "https://localhost:8080/",
          "height": 207
        }
      },
      "source": [
        "#Valores por Defecto \n",
        "def comanda( primer , fuerte , postre=\"Galleta de animalito\" ):\n",
        "  print(f\"De entrada pidió: { primer }\")\n",
        "  print(f\"De plato fuerte pidió: { fuerte }\")\n",
        "  print(f\"De poste pidió: { postre }\")\n",
        "\n",
        "\n",
        "  # argumentos posicionales con tuplas *\n",
        "\n",
        "def comanda_2( *opciones ):\n",
        "    print(opciones)\n",
        "    print(f\"De entrada pidió: { opciones[0] }\")\n",
        "    print(f\"De plato fuerte pidió: { opciones[1] }\")\n",
        "    print(f\"De poste pidió: { opciones[2] }\")\n",
        "\n",
        "\n",
        "comanda(\"spaguetti\" , \"Tacos dorados\" , \"Pay de limon y Duraznos en almibar\")\n",
        "comanda(\"spaguetti\" , \"Tacos dorados\")\n",
        "comanda_2(\"spaguetti\", \"Tacos dorados\", \"Pay de limon y Duraznos en almibar\", \"Traer agua de horchata y traer Guacamole\")\n",
        "\n",
        "\n",
        "\n",
        "   "
      ],
      "execution_count": 26,
      "outputs": [
        {
          "output_type": "stream",
          "text": [
            "De entrada pidió: spaguetti\n",
            "De plato fuerte pidió: Tacos dorados\n",
            "De poste pidió: Pay de limon y Duraznos en almibar\n",
            "De entrada pidió: spaguetti\n",
            "De plato fuerte pidió: Tacos dorados\n",
            "De poste pidió: Galleta de animalito\n",
            "('spaguetti', 'Tacos dorados', 'Pay de limon y Duraznos en almibar', 'Traer agua de horchata y traer Guacamole')\n",
            "De entrada pidió: spaguetti\n",
            "De plato fuerte pidió: Tacos dorados\n",
            "De poste pidió: Pay de limon y Duraznos en almibar\n"
          ],
          "name": "stdout"
        }
      ]
    },
    {
      "cell_type": "code",
      "metadata": {
        "id": "tuw53jgYDC4l",
        "outputId": "cd8e13b0-5b6e-4947-df36-e125a3057418",
        "colab": {
          "base_uri": "https://localhost:8080/",
          "height": 292
        }
      },
      "source": [
        "# valores por defecto\n",
        "def comanda( primer , fuerte , postre=\"Galleta de animalito\" ):\n",
        "  print(f\"De entrada pidió: { primer }\")\n",
        "  print(f\"De plato fuerte pidió: { fuerte }\")\n",
        "  print(f\"De poste pidió: { postre }\")\n",
        "\n",
        "\n",
        "  # argumentos posicionales con tuplas *\n",
        "\n",
        "def comanda_2( *opciones ):\n",
        "    print(opciones)\n",
        "    print(f\"De entrada pidió: { opciones[0] }\")\n",
        "    print(f\"De plato fuerte pidió: { opciones[1] }\")\n",
        "    print(f\"De poste pidió: { opciones[2] }\")\n",
        "    print(\"\\n Indicaciones extra:\")\n",
        "    for ind in opciones[3::]:\n",
        "        print(f\"\\t {ind}\")\n",
        "\n",
        "comanda(\"sopa aguada\" , \"Mojarra al mojo de ajo\" , \"Pay de limon y Duraznos en almibar\")\n",
        "comanda(\"sopa aguada\" , \"Mojarra al mojo de ajo\")\n",
        "comanda_2(\"sopa aguada\", \"Mojarra al mojo de ajo\", \"Pay de limon y Duraznos en almibar\", \"La mojarra bien dorada y traer Guacamole\", \"Traer 2 limones\", \"El agua con poco hielo\")"
      ],
      "execution_count": 27,
      "outputs": [
        {
          "output_type": "stream",
          "text": [
            "De entrada pidió: sopa aguada\n",
            "De plato fuerte pidió: Mojarra al mojo de ajo\n",
            "De poste pidió: Pay de limon y Duraznos en almibar\n",
            "De entrada pidió: sopa aguada\n",
            "De plato fuerte pidió: Mojarra al mojo de ajo\n",
            "De poste pidió: Galleta de animalito\n",
            "('sopa aguada', 'Mojarra al mojo de ajo', 'Pay de limon y Duraznos en almibar', 'La mojarra bien dorada y traer Guacamole', 'Traer 2 limones', 'El agua con poco hielo')\n",
            "De entrada pidió: sopa aguada\n",
            "De plato fuerte pidió: Mojarra al mojo de ajo\n",
            "De poste pidió: Pay de limon y Duraznos en almibar\n",
            "\n",
            " Indicaciones extra:\n",
            "\t La mojarra bien dorada y traer Guacamole\n",
            "\t Traer 2 limones\n",
            "\t El agua con poco hielo\n"
          ],
          "name": "stdout"
        }
      ]
    },
    {
      "cell_type": "code",
      "metadata": {
        "id": "d03DyyG1EF5o",
        "outputId": "0e518a21-c005-4984-990d-97c2dc4cd112",
        "colab": {
          "base_uri": "https://localhost:8080/",
          "height": 156
        }
      },
      "source": [
        "#Argumentos posicionales con diccionarios **\n",
        "def comanda_3( **opciones ):\n",
        "    print(opciones)\n",
        "    for op in opciones.items():\n",
        "        print(f\"{op[0]} ----> {op[1]}\")\n",
        "\n",
        "comanda_3(primer= \"sopa aguada\", fuerte= \"Mojarra al mojo de ajo\", postre= \"Pay de limon y Duraznos en almibar\", extra1= \"La mojarra bien dorada y traer Guacamole\", extra2= \"Traer 2 limones\", extra3= \"El agua con poco hielo\")"
      ],
      "execution_count": 29,
      "outputs": [
        {
          "output_type": "stream",
          "text": [
            "{'primer': 'sopa aguada', 'fuerte': 'Mojarra al mojo de ajo', 'postre': 'Pay de limon y Duraznos en almibar', 'extra1': 'La mojarra bien dorada y traer Guacamole', 'extra2': 'Traer 2 limones', 'extra3': 'El agua con poco hielo'}\n",
            "primer ----> sopa aguada\n",
            "fuerte ----> Mojarra al mojo de ajo\n",
            "postre ----> Pay de limon y Duraznos en almibar\n",
            "extra1 ----> La mojarra bien dorada y traer Guacamole\n",
            "extra2 ----> Traer 2 limones\n",
            "extra3 ----> El agua con poco hielo\n"
          ],
          "name": "stdout"
        }
      ]
    }
  ]
}