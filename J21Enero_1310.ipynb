{
  "nbformat": 4,
  "nbformat_minor": 0,
  "metadata": {
    "colab": {
      "name": "J21Enero_1310.ipynb",
      "provenance": [],
      "authorship_tag": "ABX9TyNLCAtN7f8Zp4U7uDSaJiG6",
      "include_colab_link": true
    },
    "kernelspec": {
      "name": "python3",
      "display_name": "Python 3"
    }
  },
  "cells": [
    {
      "cell_type": "markdown",
      "metadata": {
        "id": "view-in-github",
        "colab_type": "text"
      },
      "source": [
        "<a href=\"https://colab.research.google.com/github/lisseta/edd_1310_2021/blob/master/J21Enero_1310.ipynb\" target=\"_parent\"><img src=\"https://colab.research.google.com/assets/colab-badge.svg\" alt=\"Open In Colab\"/></a>"
      ]
    },
    {
      "cell_type": "markdown",
      "metadata": {
        "id": "Q367XWiEReLK"
      },
      "source": [
        "# A R B O L E S . B I N A R I O S"
      ]
    },
    {
      "cell_type": "code",
      "metadata": {
        "id": "ojmj6pSdRVf4"
      },
      "source": [
        "#arboles_binarios.py\r\n",
        "class NodoArbol:\r\n",
        "  def __init__(self, value, left=None, right=None):\r\n",
        "    self.data= value\r\n",
        "    self.left= left\r\n",
        "    self.right= right\r\n",
        "\r\n",
        "class BinarySearchTree:\r\n",
        "  def __init__(self):\r\n",
        "    self.__root= None\r\n",
        "\r\n",
        "  def insert(self, value):\r\n",
        "    #Regla1 --> ¿La raíz está vacía?\r\n",
        "    if self.__root== None:\r\n",
        "      self.__root= NodoArbol(value, None, None) #Asignación y NO COMPARACIÓN\r\n",
        "\r\n",
        "    #Regla2 \r\n",
        "    else:\r\n",
        "      self.__insert__(self.__root, value)\r\n",
        "\r\n",
        "  def __insert__(self,nodo, value,):\r\n",
        "    if nodo.data== value: #¿El valor ya existe?\r\n",
        "    print(\"El dato ya existe\")\r\n",
        "    elif value < nodo.data: \r\n",
        "    #Regla 1\r\n",
        "      if nodo.left== None: #Preguntar nuevamente\r\n",
        "        nodo.left= NodoArbol(value)  \r\n",
        "    #Regla 2  --> Aplicar RECURSIVIDAD\r\n",
        "      else:\r\n",
        "        self.__insert__(nodo.left,value) #Izquierdo\r\n",
        "        if nodo.right== None:\r\n",
        "          nodo.right= Nodo Arbol(value)\r\n",
        "        else:\r\n",
        "          self.__insert__(nodo.right, value) #Derecho\r\n",
        "\r\n",
        "  def __recorrido_in(self, nodo):\r\n",
        "    if nodo != None: #Primer caso \r\n",
        "    self.__recorrido_in(nodo.left)\r\n",
        "    print(nodo.data)\r\n",
        "    self.__recorrico_in(nodo.right)\r\n",
        "\r\n",
        "  #Còdigo 21 de Enero, 2021\r\n",
        "\r\n",
        "\r\n",
        "  def transversal(self, format= \"inorden\"):\r\n",
        "    if format == \"inorden\":\r\n",
        "      self.__recorrido_in(self.__root)\r\n",
        "      elif format ==\"preorden\":\r\n",
        "        print(\"Recorrido en pre\")\r\n",
        "      elif format ==\"posorden\":\r\n",
        "        print(\"Recorrido pos\")\r\n",
        "      else:\r\n",
        "        print(\"Error, formato inexistente\")\r\n",
        "      print(\"\")  \r\n",
        "\r\n",
        "  def __search(self, nodo, value):\r\n",
        "    if nodo:\r\n",
        "      return None\r\n",
        "    elif nodo.data== value #Caso Base de RECURSIVIDAD\r\n",
        "       print(\"Encontrado\")\r\n",
        "      return nodo.data\r\n",
        "    elif value < nodo.data: \r\n",
        "      print (\"Buscar a la izquierda\")\r\n",
        "      return self.__search(nodo.left, value)\r\n",
        "      else: \r\n",
        "        print (\"Buscar a la derecha\")\r\n",
        "        return self.__search()  \r\n",
        "\r\n",
        "  def search( self , value ):\r\n",
        "        if self.__root == None:\r\n",
        "            return None\r\n",
        "        else:\r\n",
        "            return self.__search( self.root , value ) \r\n",
        "\r\n",
        "  def remove (self, value):\r\n",
        "    encontrado=self.search(value)\r\n",
        "    #Caso 1\r\n",
        "    if encontrado.left ==None and encontrado.right ==None:\r\n",
        "      print(\"Eliminando\", encontrado.data)\r\n",
        "       encontrado=None\r\n",
        "    #Caso 2\r\n",
        "    elif (encontrado. left != None and encontrado.right ==None) or \r\n",
        "         (encontrado.left == None and encontrado.right != None) "
      ],
      "execution_count": null,
      "outputs": []
    },
    {
      "cell_type": "markdown",
      "metadata": {
        "id": "XHQxhuM6Rl1G"
      },
      "source": [
        "#Archivo de Prueba"
      ]
    },
    {
      "cell_type": "code",
      "metadata": {
        "id": "FP_BSgiWRjcF"
      },
      "source": [
        "#pruebas_abb.py\r\n",
        "from arboles_binarios import BinarySearchTree\r\n",
        "\r\n",
        "abb=BinarySearchTree()\r\n",
        "abb.insert(50)\r\n",
        "abb.insert(30)\r\n",
        "abb.insert(60)\r\n",
        "abb.insert(35)\r\n",
        "abb.insert(60)\r\n",
        "abb.insert(60)\r\n",
        "\r\n",
        "\r\n",
        "#Còdigo Jueves 21 Enero, 2021\r\n",
        "abb.transversal(\"preorden\")\r\n",
        "abb.transverasl(\"posorden\")\r\n",
        "res=abb.search(25)\r\n",
        "print(f\"El resultado es: { res }\")\r\n",
        "abb.remove(35)\r\n",
        "abb.transversal()\r\n"
      ],
      "execution_count": null,
      "outputs": []
    }
  ]
}