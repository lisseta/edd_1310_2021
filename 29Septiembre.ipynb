{
  "nbformat": 4,
  "nbformat_minor": 0,
  "metadata": {
    "colab": {
      "name": "Copia de Te damos la bienvenida a Colaboratory",
      "provenance": [],
      "collapsed_sections": [],
      "toc_visible": true,
      "include_colab_link": true
    },
    "kernelspec": {
      "display_name": "Python 3",
      "name": "python3"
    }
  },
  "cells": [
    {
      "cell_type": "markdown",
      "metadata": {
        "id": "view-in-github",
        "colab_type": "text"
      },
      "source": [
        "<a href=\"https://colab.research.google.com/github/lisseta/edd_1310_2021/blob/master/29Septiembre.ipynb\" target=\"_parent\"><img src=\"https://colab.research.google.com/assets/colab-badge.svg\" alt=\"Open In Colab\"/></a>"
      ]
    },
    {
      "cell_type": "code",
      "metadata": {
        "id": "WiHEAwZSNRmv",
        "outputId": "9abd6b01-c437-4f42-8901-f4cfac274159",
        "colab": {
          "base_uri": "https://localhost:8080/",
          "height": 34
        }
      },
      "source": [
        "edad= 10\n",
        "print (edad)"
      ],
      "execution_count": null,
      "outputs": [
        {
          "output_type": "stream",
          "text": [
            "10\n"
          ],
          "name": "stdout"
        }
      ]
    },
    {
      "cell_type": "code",
      "metadata": {
        "id": "iWxIlg6GO7uh",
        "outputId": "7a9bab55-b211-428f-ef8c-03c14b624ca8",
        "colab": {
          "base_uri": "https://localhost:8080/",
          "height": 34
        }
      },
      "source": [
        "from google.colab import drive\n",
        "drive.mount('/content/drive')"
      ],
      "execution_count": null,
      "outputs": [
        {
          "output_type": "stream",
          "text": [
            "Mounted at /content/drive\n"
          ],
          "name": "stdout"
        }
      ]
    },
    {
      "cell_type": "code",
      "metadata": {
        "id": "9pPoU3HAPQNE",
        "outputId": "6c70effb-11d0-4b69-bc80-bff38cd2e68c",
        "colab": {
          "base_uri": "https://localhost:8080/",
          "height": 34
        }
      },
      "source": [
        "colores =['rojo', 'azul', 'verde', 'morado', 'violeta']\n",
        "print (colores)"
      ],
      "execution_count": 1,
      "outputs": [
        {
          "output_type": "stream",
          "text": [
            "['rojo', 'azul', 'verde', 'morado', 'violeta']\n"
          ],
          "name": "stdout"
        }
      ]
    },
    {
      "cell_type": "code",
      "metadata": {
        "id": "K3WtItpJPpSa",
        "outputId": "e4ae695d-a3bb-47ea-bc81-9515cfedc9db",
        "colab": {
          "base_uri": "https://localhost:8080/",
          "height": 34
        }
      },
      "source": [
        "print (colores[3])\n"
      ],
      "execution_count": 2,
      "outputs": [
        {
          "output_type": "stream",
          "text": [
            "morado\n"
          ],
          "name": "stdout"
        }
      ]
    },
    {
      "cell_type": "code",
      "metadata": {
        "id": "tSPRCt6jP86I",
        "outputId": "0699d42a-d4b4-445e-95d3-ccd5bb11159f",
        "colab": {
          "base_uri": "https://localhost:8080/",
          "height": 68
        }
      },
      "source": [
        "#Solo mostrar \"RA\" de morado\n",
        "print(colores[3][2:4])\n",
        "nombre= \"Lizeth\"\n",
        "print(nombre[0])\n",
        "print (nombre[0:3:1])"
      ],
      "execution_count": 8,
      "outputs": [
        {
          "output_type": "stream",
          "text": [
            "ra\n",
            "L\n",
            "Liz\n"
          ],
          "name": "stdout"
        }
      ]
    },
    {
      "cell_type": "markdown",
      "metadata": {
        "id": "kqwMUmzxSYph"
      },
      "source": [
        "# FOR EN PYTHON \n",
        "   2 variantes\n",
        "1. j in range (ini, tope, incremento)\n",
        "2. in (iterador)\n"
      ]
    },
    {
      "cell_type": "code",
      "metadata": {
        "id": "PLRZhMRQT90B",
        "outputId": "60a1c3dc-d288-42eb-8c4a-172a465615d2",
        "colab": {
          "base_uri": "https://localhost:8080/",
          "height": 102
        }
      },
      "source": [
        "for j in range(0,5,1):\n",
        "  print(colores[j])"
      ],
      "execution_count": 5,
      "outputs": [
        {
          "output_type": "stream",
          "text": [
            "rojo\n",
            "azul\n",
            "verde\n",
            "morado\n",
            "violeta\n"
          ],
          "name": "stdout"
        }
      ]
    },
    {
      "cell_type": "code",
      "metadata": {
        "id": "Sbb858n1UApy",
        "outputId": "f651bbde-2b03-44e9-81bc-2dbe82e6cff0",
        "colab": {
          "base_uri": "https://localhost:8080/",
          "height": 102
        }
      },
      "source": [
        "for color in colores:\n",
        "  print(color)"
      ],
      "execution_count": 6,
      "outputs": [
        {
          "output_type": "stream",
          "text": [
            "rojo\n",
            "azul\n",
            "verde\n",
            "morado\n",
            "violeta\n"
          ],
          "name": "stdout"
        }
      ]
    },
    {
      "cell_type": "code",
      "metadata": {
        "id": "an5EI6VDUFDg",
        "outputId": "052196e8-c49e-4671-8a36-a4593f0ed260",
        "colab": {
          "base_uri": "https://localhost:8080/",
          "height": 119
        }
      },
      "source": [
        "for j in range(0,len(nombre),1):\n",
        "  print(nombre[j])"
      ],
      "execution_count": 9,
      "outputs": [
        {
          "output_type": "stream",
          "text": [
            "L\n",
            "i\n",
            "z\n",
            "e\n",
            "t\n",
            "h\n"
          ],
          "name": "stdout"
        }
      ]
    },
    {
      "cell_type": "code",
      "metadata": {
        "id": "E4zNJs-GUY2R",
        "outputId": "b8188ddc-5c0c-4418-f9cf-bb8e14abdfce",
        "colab": {
          "base_uri": "https://localhost:8080/",
          "height": 119
        }
      },
      "source": [
        "nombre= \"Lizeth\"\n",
        "for nom in nombre:\n",
        "  print(nom)"
      ],
      "execution_count": 10,
      "outputs": [
        {
          "output_type": "stream",
          "text": [
            "L\n",
            "i\n",
            "z\n",
            "e\n",
            "t\n",
            "h\n"
          ],
          "name": "stdout"
        }
      ]
    },
    {
      "cell_type": "markdown",
      "metadata": {
        "id": "_hkUbcNWUelG"
      },
      "source": [
        "# #Hello Word "
      ]
    }
  ]
}