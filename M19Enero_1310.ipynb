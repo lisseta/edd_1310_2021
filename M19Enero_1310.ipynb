{
  "nbformat": 4,
  "nbformat_minor": 0,
  "metadata": {
    "colab": {
      "name": "M19Enero_1310.ipynb",
      "provenance": [],
      "authorship_tag": "ABX9TyN4NW87UOgc29ypUk/ZW9ez",
      "include_colab_link": true
    },
    "kernelspec": {
      "name": "python3",
      "display_name": "Python 3"
    }
  },
  "cells": [
    {
      "cell_type": "markdown",
      "metadata": {
        "id": "view-in-github",
        "colab_type": "text"
      },
      "source": [
        "<a href=\"https://colab.research.google.com/github/lisseta/edd_1310_2021/blob/master/M19Enero_1310.ipynb\" target=\"_parent\"><img src=\"https://colab.research.google.com/assets/colab-badge.svg\" alt=\"Open In Colab\"/></a>"
      ]
    },
    {
      "cell_type": "markdown",
      "metadata": {
        "id": "FEB4WFyJ18Ni"
      },
      "source": [
        "#   A R B O L E S . B I N A R I O S\r\n",
        "\r\n"
      ]
    },
    {
      "cell_type": "code",
      "metadata": {
        "id": "l7BoYHD_2p0r"
      },
      "source": [
        "#arboles_binarios.py\r\n",
        "class NodoArbol:\r\n",
        "  def __init__(self, value, left=None, right=None):\r\n",
        "    self.data= value\r\n",
        "    self.left= left\r\n",
        "    self.right= right\r\n",
        "\r\n",
        "class BinarySearchTree:\r\n",
        "  def __init__(self):\r\n",
        "    self.__root= None\r\n",
        "\r\n",
        "  def insert(self, value):\r\n",
        "    #Regla1 --> ¿La raíz está vacía?\r\n",
        "    if self.__root== None:\r\n",
        "      self.__root= NodoArbol(value, None, None) #Asignación y NO COMPARACIÓN\r\n",
        "\r\n",
        "    #Regla2 \r\n",
        "    else:\r\n",
        "      self.__insert__(self.__root, value)\r\n",
        "\r\n",
        "  def __insert__(self,nodo, value,):\r\n",
        "    if nodo.data== value: #¿El valor ya existe?\r\n",
        "    print(\"El dato ya existe\")\r\n",
        "    elif value < nodo.data: \r\n",
        "    #Regla 1\r\n",
        "      if nodo.left== None: #Preguntar nuevamente\r\n",
        "        nodo.left= NodoArbol(value)  \r\n",
        "    #Regla 2  --> Aplicar RECURSIVIDAD\r\n",
        "      else:\r\n",
        "        self.__insert__(nodo.left,value) #Izquierdo\r\n",
        "        if nodo.right== None:\r\n",
        "          nodo.right= Nodo Arbol(value)\r\n",
        "        else:\r\n",
        "          self.__insert__(nodo.right, value) #Derecho\r\n",
        "\r\n",
        "  def __recorrido_in(self, nodo):\r\n",
        "    if nodo != None: #Primer caso \r\n",
        "    self.__recorrido_in(nodo.left)\r\n",
        "    print(nodo.data)\r\n",
        "    self.__recorrico_in(nodo.right)\r\n",
        "\r\n",
        "  def transversal(self, format= \"inorden\"):\r\n",
        "    if format == \"inorden\":\r\n",
        "      self.__recorrido_in(self.__root)\r\n",
        "      elif format ==\"preorden\":\r\n",
        "        print(\"Recorrido en pre\")\r\n",
        "      elif format ==\"posorden\":\r\n",
        "        print(\"Recorrido pos\")\r\n",
        "      else:\r\n",
        "        print(\"Error, formato inexistente\")\r\n",
        "      print(\"\")  \r\n",
        "\r\n",
        "  \r\n"
      ],
      "execution_count": null,
      "outputs": []
    },
    {
      "cell_type": "markdown",
      "metadata": {
        "id": "tq2dCzZI127U"
      },
      "source": [
        "#Archivo de Prueba"
      ]
    },
    {
      "cell_type": "code",
      "metadata": {
        "id": "ogz4Mwz516OP"
      },
      "source": [
        "#pruebas_abb.py\r\n",
        "from arboles_binarios import BinarySearchTree\r\n",
        "\r\n",
        "abb=BinarySearchTree()\r\n",
        "abb.insert(50)\r\n",
        "abb.insert(30)\r\n",
        "abb.insert(60)\r\n",
        "\r\n",
        "abb-.transversal()\r\n",
        "\r\n"
      ],
      "execution_count": null,
      "outputs": []
    }
  ]
}