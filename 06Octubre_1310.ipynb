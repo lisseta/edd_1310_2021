{
  "nbformat": 4,
  "nbformat_minor": 0,
  "metadata": {
    "colab": {
      "name": "06Octubre_1310.ipynb",
      "provenance": [],
      "authorship_tag": "ABX9TyMVkg+7LrzW9WUl5GkXHLN8",
      "include_colab_link": true
    },
    "kernelspec": {
      "name": "python3",
      "display_name": "Python 3"
    }
  },
  "cells": [
    {
      "cell_type": "markdown",
      "metadata": {
        "id": "view-in-github",
        "colab_type": "text"
      },
      "source": [
        "<a href=\"https://colab.research.google.com/github/lisseta/edd_1310_2021/blob/master/06Octubre_1310.ipynb\" target=\"_parent\"><img src=\"https://colab.research.google.com/assets/colab-badge.svg\" alt=\"Open In Colab\"/></a>"
      ]
    },
    {
      "cell_type": "markdown",
      "metadata": {
        "id": "cDThmpLrsHKc"
      },
      "source": [
        "#String continuación\n"
      ]
    },
    {
      "cell_type": "code",
      "metadata": {
        "id": "uGbfeqkZujIg",
        "outputId": "00c76d33-ca6e-4a15-ff71-6ff99f39fb09",
        "colab": {
          "base_uri": "https://localhost:8080/",
          "height": 68
        }
      },
      "source": [
        "frase = \"Si funciona... no lo compongas!!!\"\n",
        "numeros_txt = \"    1, 2, 3, 4    , 5   , 35   , 15  , 12\"\n",
        "print(numeros_txt)\n",
        "numeros_txt = numeros_txt.lstrip().split(',')\n",
        "print(numeros_txt)\n",
        "for j in range(len(numeros_txt)):\n",
        "  numeros_txt[ j ] = int(numeros_txt[j].strip())\n",
        "print(numeros_txt)"
      ],
      "execution_count": 7,
      "outputs": [
        {
          "output_type": "stream",
          "text": [
            "    1, 2, 3, 4    , 5   , 35   , 15  , 12\n",
            "['1', ' 2', ' 3', ' 4    ', ' 5   ', ' 35   ', ' 15  ', ' 12']\n",
            "[1, 2, 3, 4, 5, 35, 15, 12]\n"
          ],
          "name": "stdout"
        }
      ]
    },
    {
      "cell_type": "markdown",
      "metadata": {
        "id": "es7_kTqqwhIn"
      },
      "source": [
        "#Función RANGE \n",
        "## range (inicio, stop, incremento)"
      ]
    },
    {
      "cell_type": "code",
      "metadata": {
        "id": "OTvV5fQZwlWl"
      },
      "source": [
        "print(range(1,3,10))\n"
      ],
      "execution_count": null,
      "outputs": []
    },
    {
      "cell_type": "markdown",
      "metadata": {
        "id": "lG7_BHDIxRtz"
      },
      "source": [
        "#Listas\n",
        "*Mutables\n",
        "se declaran con [ ]\n",
        "Y el selector es [int :] ->El número del elemeto en la lista\n",
        "\n",
        "#Tuplas \n",
        "No mutables, \n",
        "declaran con (), selector [int ] \n",
        "\n",
        "#Diccionarios \n",
        "Son mutables, \n",
        "son conjunto de pares llave:valor\n",
        "Equivalentes a los Objetos JSON de JavaScript\n",
        "\n",
        "#Conjuntos \n",
        "Representacion de la teoría de conjuntos \n"
      ]
    },
    {
      "cell_type": "code",
      "metadata": {
        "id": "-4OZEcDByGd-",
        "outputId": "d33f4177-407a-4b34-c3b5-feb61aaebc8c",
        "colab": {
          "base_uri": "https://localhost:8080/",
          "height": 136
        }
      },
      "source": [
        "#Listas (Equicalentes a arreglos en otros lenguajes de programacion)\n",
        "frutas=[\"pera\", \"manzana\", \"fresa\", \"kiwi\", \"naranja\"]\n",
        "print(frutas)\n",
        "cosas=[\"cuaderno\", 2, 3.1416, True, False, [\"Rojo\", \"Azul\"] ]\n",
        "print(cosas)\n",
        "frutas[2]= \"Fresa\" #Fruta [2]=frutas[2].capitalize()\n",
        "print(frutas)\n",
        "\n",
        "#Agregar a la lista\n",
        "frutas.append(\"Aguacate\")\n",
        "print(frutas)\n",
        "frutas.insert(2, \"Sandia\")\n",
        "print(frutas)\n",
        "\n",
        "#Concatenar listas\n",
        "fecha=[\"06\",\"10\",\"2020\"]\n",
        "print(fecha)\n",
        "fecha_str=\"/\".join(fecha)\n",
        "print(fecha_str)\n"
      ],
      "execution_count": 12,
      "outputs": [
        {
          "output_type": "stream",
          "text": [
            "['pera', 'manzana', 'fresa', 'kiwi', 'naranja']\n",
            "['cuaderno', 2, 3.1416, True, False, ['Rojo', 'Azul']]\n",
            "['pera', 'manzana', 'Fresa', 'kiwi', 'naranja']\n",
            "['pera', 'manzana', 'Fresa', 'kiwi', 'naranja', 'Aguacate']\n",
            "['pera', 'manzana', 'Sandia', 'Fresa', 'kiwi', 'naranja', 'Aguacate']\n",
            "['06', '10', '2020']\n",
            "06/10/2020\n"
          ],
          "name": "stdout"
        }
      ]
    },
    {
      "cell_type": "code",
      "metadata": {
        "id": "8aG1rQtm3Umj",
        "outputId": "b789cf92-773a-436a-c7de-e2f74b2fe854",
        "colab": {
          "base_uri": "https://localhost:8080/",
          "height": 153
        }
      },
      "source": [
        "#Eliminar elementos \n",
        "cosas=[\"cuaderno\", 2, 3.1416, True, False, [\"Rojo\", \"Azul\"] ]\n",
        "print(cosas)\n",
        "cosas.append(\"Libro\")\n",
        "cosas.append(\"Lapiz\")\n",
        "print(cosas)\n",
        "algo=cosas.pop() #Como no especifico que quiero,es sacado de la lista\n",
        "#Elimina y te lo regresa, se almacena en la variable algo\n",
        "\n",
        "\n",
        "algo=cosas.pop(2)\n",
        "print(cosas)\n",
        "print(algo)\n",
        "cosas.remove(2)\n",
        "print(cosas)\n",
        "#otra forma de remover remove(value)->Busca en la lista y lo elimina en la primera coincidencia\n",
        "\n",
        "#cosas.clear()\n",
        "print(cosas)\n",
        "\n",
        "#ORDENAR\n",
        "print(frutas)\n",
        "frutas.sort() #Ordena como un diccionario, ALFABETICAMENTE\n",
        "print(frutas)\n"
      ],
      "execution_count": 23,
      "outputs": [
        {
          "output_type": "stream",
          "text": [
            "['cuaderno', 2, 3.1416, True, False, ['Rojo', 'Azul']]\n",
            "['cuaderno', 2, 3.1416, True, False, ['Rojo', 'Azul'], 'Libro', 'Lapiz']\n",
            "['cuaderno', 2, True, False, ['Rojo', 'Azul'], 'Libro']\n",
            "3.1416\n",
            "['cuaderno', True, False, ['Rojo', 'Azul'], 'Libro']\n",
            "['cuaderno', True, False, ['Rojo', 'Azul'], 'Libro']\n",
            "['Aguacate', 'Fresa', 'Sandia', 'kiwi', 'manzana', 'naranja', 'pera']\n",
            "['Aguacate', 'Fresa', 'Sandia', 'kiwi', 'manzana', 'naranja', 'pera']\n"
          ],
          "name": "stdout"
        }
      ]
    },
    {
      "cell_type": "code",
      "metadata": {
        "id": "qANw82d27Frh",
        "outputId": "eccc79d2-920d-4c93-f33e-37f304253dd7",
        "colab": {
          "base_uri": "https://localhost:8080/",
          "height": 136
        }
      },
      "source": [
        "#Slicing\n",
        "\n",
        "cosas=[\"cuaderno\", 2, 3.1416, True, False, [\"Rojo\", \"Azul\"] ]\n",
        "print(cosas[3:5:1])\n",
        "print(cosas)\n",
        "print(cosas[0][3:5:1]) #Seleccionas posición y rebanas\n",
        "\n",
        "numeros=[1,2,3,4,5,6,7,8,9,10,11,12,13,14,15]\n",
        "print(numeros[8:13]) #El tope no se cuenta\n",
        "print(numeros[:13:])\n",
        "\n",
        "#Sustituir rebanadas -2,-2 -> [1,2,3,4,5,6,7, -2, -2, 8,9,10,11,12,13,14,15]\n",
        "numeros[8:13:] = [-2,-2] \n",
        "print(numeros)\n",
        "\n",
        "#Preguntar por existencia\n",
        "# ¿Existe?\n",
        "print(100 in numeros ) #Existe->TRUE NoExiste->FALSE\n",
        "\n"
      ],
      "execution_count": 30,
      "outputs": [
        {
          "output_type": "stream",
          "text": [
            "[True, False]\n",
            "['cuaderno', 2, 3.1416, True, False, ['Rojo', 'Azul']]\n",
            "de\n",
            "[9, 10, 11, 12, 13]\n",
            "[1, 2, 3, 4, 5, 6, 7, 8, 9, 10, 11, 12, 13]\n",
            "[1, 2, 3, 4, 5, 6, 7, 8, -2, -2, 14, 15]\n",
            "False\n"
          ],
          "name": "stdout"
        }
      ]
    },
    {
      "cell_type": "markdown",
      "metadata": {
        "id": "33SQBARv-m83"
      },
      "source": [
        "#Listas Multidimensión\n",
        "\n",
        "Listas dentro de listas "
      ]
    },
    {
      "cell_type": "code",
      "metadata": {
        "id": "D2y3TqqH-sqw",
        "outputId": "5609d78c-a950-4065-ceac-6b1a0eb88ce7",
        "colab": {
          "base_uri": "https://localhost:8080/",
          "height": 207
        }
      },
      "source": [
        "computadoras=[\"HP\", \"Mac Book PRo 17\", \"Mate Book\", \"Lenovo Legion\"]\n",
        "oss= [\"Windows 10\", \"Linux\", \"Android\", \"iOS\"]\n",
        "\n",
        "computo= [computadoras, oss]\n",
        "print(computo[0])\n",
        "print(computo[1])\n",
        "print(computo[0] [2])\n",
        "print(computo[0] [2] [0:5])\n",
        "print(computo[0] [3] [5: :-1])\n",
        "print(computo[0] [3] [-8: :-1])\n",
        "print(\"Linux\" in computo [1])\n",
        "dbms=[ [\"Mysql\", \"Open Source\", False] , [\"MS SQL Server\", \"de paga\", True]]\n",
        "computo.append(dbms)\n",
        "print(computo)\n",
        "print(computo[2] [0] [0])\n",
        "print(computo[2][1][1])"
      ],
      "execution_count": 35,
      "outputs": [
        {
          "output_type": "stream",
          "text": [
            "['HP', 'Mac Book PRo 17', 'Mate Book', 'Lenovo Legion']\n",
            "['Windows 10', 'Linux', 'Android', 'iOS']\n",
            "Mate Book\n",
            "Mate \n",
            "ovoneL\n",
            "ovoneL\n",
            "True\n",
            "[['HP', 'Mac Book PRo 17', 'Mate Book', 'Lenovo Legion'], ['Windows 10', 'Linux', 'Android', 'iOS'], [['Mysql', 'Open Source', False], ['MS SQL Server', 'de paga', True]]]\n",
            "Mysql\n",
            "de paga\n"
          ],
          "name": "stdout"
        }
      ]
    }
  ]
}