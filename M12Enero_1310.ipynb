{
  "nbformat": 4,
  "nbformat_minor": 0,
  "metadata": {
    "colab": {
      "name": "M12Enero_1310.ipynb",
      "provenance": [],
      "authorship_tag": "ABX9TyPa4zo5ykhGSG0TPywn11s9",
      "include_colab_link": true
    },
    "kernelspec": {
      "name": "python3",
      "display_name": "Python 3"
    }
  },
  "cells": [
    {
      "cell_type": "markdown",
      "metadata": {
        "id": "view-in-github",
        "colab_type": "text"
      },
      "source": [
        "<a href=\"https://colab.research.google.com/github/lisseta/edd_1310_2021/blob/master/M12Enero_1310.ipynb\" target=\"_parent\"><img src=\"https://colab.research.google.com/assets/colab-badge.svg\" alt=\"Open In Colab\"/></a>"
      ]
    },
    {
      "cell_type": "markdown",
      "metadata": {
        "id": "ihlh8KGhuJR6"
      },
      "source": [
        "#Ejercicio de RECURSIVIDAD"
      ]
    },
    {
      "cell_type": "code",
      "metadata": {
        "colab": {
          "base_uri": "https://localhost:8080/"
        },
        "id": "6mw-xJI2qyBA",
        "outputId": "6ac9b03f-c83b-4142-96ce-5cb27876288f"
      },
      "source": [
        "def factorial(n): #\r\n",
        "  if n==0:\r\n",
        "    return 1\r\n",
        "  else:\r\n",
        "    return factorial(n-1)*n\r\n",
        "\r\n",
        "def printRev(n):\r\n",
        "  if n>0:\r\n",
        "    #print(n)\r\n",
        "    printRev(n-1)\r\n",
        "    print(n)    \r\n",
        "\r\n",
        "def main():\r\n",
        "  for num in range(1,11,1):\r\n",
        "    r=factorial(num)\r\n",
        "  print(f\"El factorial de {num} es {r}\")\r\n",
        "\r\n",
        " #def main2():\r\n",
        "\r\n",
        "\r\n"
      ],
      "execution_count": 13,
      "outputs": [
        {
          "output_type": "stream",
          "text": [
            "El factorial de 10 es 3628800\n"
          ],
          "name": "stdout"
        }
      ]
    },
    {
      "cell_type": "code",
      "metadata": {
        "id": "MAdhc_fIyax0"
      },
      "source": [
        "def fibonacci(n):\r\n",
        "  if n==1 or n==0:\r\n",
        "    return n\r\n",
        "    else: \r\n",
        "      fibonacci(n-1) + fibonacci(n-2)\r\n",
        "\r\n",
        "def fibonacci(m):\r\n",
        "  if m==1 or m=="
      ],
      "execution_count": null,
      "outputs": []
    },
    {
      "cell_type": "markdown",
      "metadata": {
        "id": "Ls5qxTGJ4HHR"
      },
      "source": [
        "#Ejercicio 1 de Tarea(Suma Recursividad)"
      ]
    },
    {
      "cell_type": "code",
      "metadata": {
        "colab": {
          "base_uri": "https://localhost:8080/",
          "height": 129
        },
        "id": "bg2cHsk13QWk",
        "outputId": "c0b7c552-b007-4cc9-ce5d-f965630daf4f"
      },
      "source": [
        "def suma_lista_rec(lista):\r\n",
        "  if len(lista)==1:\r\n",
        "    return lista[0]\r\n",
        "    else:\r\n",
        "      return lista.pop() + suma_lista_rec(lista)\r\n",
        "\r\n",
        "def main():\r\n",
        "  datos[4,2,3,5] #14\r\n",
        "  res=suma_lista_rec(datos)\r\n",
        "  print(res)\r\n",
        "\r\n",
        "main()    "
      ],
      "execution_count": 14,
      "outputs": [
        {
          "output_type": "error",
          "ename": "SyntaxError",
          "evalue": "ignored",
          "traceback": [
            "\u001b[0;36m  File \u001b[0;32m\"<ipython-input-14-279cd62be27e>\"\u001b[0;36m, line \u001b[0;32m4\u001b[0m\n\u001b[0;31m    else:\u001b[0m\n\u001b[0m       ^\u001b[0m\n\u001b[0;31mSyntaxError\u001b[0m\u001b[0;31m:\u001b[0m invalid syntax\n"
          ]
        }
      ]
    },
    {
      "cell_type": "code",
      "metadata": {
        "id": "zgn8vpJR31op"
      },
      "source": [
        ""
      ],
      "execution_count": null,
      "outputs": []
    }
  ]
}