{
  "nbformat": 4,
  "nbformat_minor": 0,
  "metadata": {
    "colab": {
      "name": "M27Octubre_1310.ipynb",
      "provenance": [],
      "authorship_tag": "ABX9TyPsndQGTwFHxcG/ssHtEfQB",
      "include_colab_link": true
    },
    "kernelspec": {
      "name": "python3",
      "display_name": "Python 3"
    }
  },
  "cells": [
    {
      "cell_type": "markdown",
      "metadata": {
        "id": "view-in-github",
        "colab_type": "text"
      },
      "source": [
        "<a href=\"https://colab.research.google.com/github/lisseta/edd_1310_2021/blob/master/M27Octubre_1310.ipynb\" target=\"_parent\"><img src=\"https://colab.research.google.com/assets/colab-badge.svg\" alt=\"Open In Colab\"/></a>"
      ]
    },
    {
      "cell_type": "code",
      "metadata": {
        "id": "3F7TYN18KxjD",
        "outputId": "18db6774-21e7-492b-c95f-86906f1f1dbb",
        "colab": {
          "base_uri": "https://localhost:8080/",
          "height": 68
        }
      },
      "source": [
        "class Computadora:\n",
        "    def __init__( self , m , p):\n",
        "        self.__marca = m\n",
        "        self.__procesador = p\n",
        "\n",
        "    def to_string( self ):\n",
        "        return \"Marca:\"+self.__marca+\" Procesador:\"+self.__procesador\n",
        "\n",
        "    def set_marca(self , m) :\n",
        "        self.__marca = m\n",
        "\n",
        "    def get_marca( self ) :\n",
        "        return self.__marca\n",
        "\n",
        "    def set_procesador( self , p ) :\n",
        "        self.__procesador = p\n",
        "\n",
        "    def get_procesador( self ) :\n",
        "        return self.__procesador  \n",
        "mi_pc = Computadora(\"Toshiba\",\"Intel i7\")\n",
        "print(mi_pc.to_string())\n",
        "mi_pc.__marca=\"HP \"  # Intentando cambiar el valor privado\n",
        "mi_pc.set_marca(\"HP co.\")\n",
        "print(mi_pc.to_string())\n",
        "#print(mi_pc.__procesador)\n",
        "print(mi_pc.get_procesador())"
      ],
      "execution_count": 1,
      "outputs": [
        {
          "output_type": "stream",
          "text": [
            "Marca:Toshiba Procesador:Intel i7\n",
            "Marca:HP co. Procesador:Intel i7\n",
            "Intel i7\n"
          ],
          "name": "stdout"
        }
      ]
    },
    {
      "cell_type": "markdown",
      "metadata": {
        "id": "M0M2pC_De2SQ"
      },
      "source": [
        "#Encapsulamiento en Python 3\n",
        "Tradicional tipo Java\n",
        "\n",
        "    void setAtributo( val )\n",
        "  \n",
        "    tipo getAtributo(  )\n",
        "\n",
        "\n",
        "#Estilo Python 3\n",
        "    UTILIZANDO DECORADORES\n",
        "    \n",
        " -  @property\n",
        " -  @atributo.setter"
      ]
    },
    {
      "cell_type": "code",
      "metadata": {
        "id": "MgyKXc1rfLWQ",
        "outputId": "fca19b9c-074b-4eb6-ecad-1ac71dc175e2",
        "colab": {
          "base_uri": "https://localhost:8080/",
          "height": 102
        }
      },
      "source": [
        "class Computadora:\n",
        "    def __init__(self, m , p):\n",
        "        self.marca = m # No se declara, se manda a llamar el decorador @property\n",
        "        self.procesador = p #idem\n",
        "\n",
        "    @property                  # Se declara como atributo provado y funciona como método get\n",
        "    def marca( self ):\n",
        "        return self.__marca\n",
        "\n",
        "    @marca.setter\n",
        "    def marca( self , m):\n",
        "        print(\"En el setter de marca\")\n",
        "        self.__marca = m\n",
        "    \n",
        "    @property\n",
        "    def procesador( self ):\n",
        "        return self.__procesador\n",
        "\n",
        "    @procesador.setter\n",
        "    def procesador( self , p):\n",
        "        print(\"En el método set de procesador\")\n",
        "        self .__procesador = p\n",
        "\n",
        "    def to_string( self ):\n",
        "        return \" Marca:\" + self.marca + \" Procesador: \"+ self.procesador\n",
        "\n",
        "mi_pc2 = Computadora(\" Mac book pro 2020 \" , \"Intel core i7-9750h\")\n",
        "print( mi_pc2.to_string() )\n",
        "mi_pc2.marca = \" Dell G7 7790 \"\n",
        "print( mi_pc2.to_string() )"
      ],
      "execution_count": 2,
      "outputs": [
        {
          "output_type": "stream",
          "text": [
            "En el setter de marca\n",
            "En el método set de procesador\n",
            " Marca: Mac book pro 2020  Procesador: Intel core i7-9750h\n",
            "En el setter de marca\n",
            " Marca: Dell G7 7790  Procesador: Intel core i7-9750h\n"
          ],
          "name": "stdout"
        }
      ]
    },
    {
      "cell_type": "code",
      "metadata": {
        "id": "CHqqFr0nfXFF",
        "outputId": "057051db-0123-472b-f499-cb1be30c8e2a",
        "colab": {
          "base_uri": "https://localhost:8080/",
          "height": 85
        }
      },
      "source": [
        "# Herencia , pasando la clase base a la declaración \n",
        "class ServidorEmpresarial( Computadora ) :\n",
        "    def __init__( self ) :\n",
        "        print(\"Bienvenido a este nuevo servidor\")\n",
        "\n",
        "server = ServidorEmpresarial()\n",
        "server.marca = \" Sun Micro Systems\"\n",
        "server.procesador = \"Intel corre i7-10750h\"\n",
        "print(server.to_string() )"
      ],
      "execution_count": 3,
      "outputs": [
        {
          "output_type": "stream",
          "text": [
            "Bienvenido a este nuevo servidor\n",
            "En el setter de marca\n",
            "En el método set de procesador\n",
            " Marca: Sun Micro Systems Procesador: Intel corre i7-10750h\n"
          ],
          "name": "stdout"
        }
      ]
    }
  ]
}