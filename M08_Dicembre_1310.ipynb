{
  "nbformat": 4,
  "nbformat_minor": 0,
  "metadata": {
    "colab": {
      "name": "M08_Dicembre_1310.ipynb",
      "provenance": [],
      "authorship_tag": "ABX9TyPFH4ddXTo1agleiKVpbhgy",
      "include_colab_link": true
    },
    "kernelspec": {
      "name": "python3",
      "display_name": "Python 3"
    }
  },
  "cells": [
    {
      "cell_type": "markdown",
      "metadata": {
        "id": "view-in-github",
        "colab_type": "text"
      },
      "source": [
        "<a href=\"https://colab.research.google.com/github/lisseta/edd_1310_2021/blob/master/M08_Dicembre_1310.ipynb\" target=\"_parent\"><img src=\"https://colab.research.google.com/assets/colab-badge.svg\" alt=\"Open In Colab\"/></a>"
      ]
    },
    {
      "cell_type": "code",
      "metadata": {
        "id": "Blp7d3_twMqe"
      },
      "source": [
        "from array2d import Array2D\r\n",
        "from stack import Stack\r\n",
        "\r\n",
        "class LaberintoADT:\r\n",
        "    \"\"\"\r\n",
        "    0 pasillo, 1 pared, S salida y E entrada\r\n",
        "    pasillo es una tupla ((2,1),(2,2),(2,3),(2,4),(3,2),(4,2))\r\n",
        "    entrada en una tupla (5,1)\r\n",
        "    salida (2,5 )\r\n",
        "    \"\"\"\r\n",
        "    def __init__( self , rens , cols , pasillos , entrada , salida ):\r\n",
        "        self.__laberinto = Array2D( rens , cols , '1' )\r\n",
        "        for pasillo in pasillos:\r\n",
        "            self.__laberinto.set_item( pasillo[0] , pasillo[1] , '0')\r\n",
        "        self.set_entrada( entrada[0],entrada[1] )\r\n",
        "        self.set_salida( salida[0],salida[1] )\r\n",
        "        self.__camino = Stack()\r\n",
        "        self.__previa = None  # guardará la posición previa\r\n",
        "\r\n",
        "\r\n",
        "    def to_string( self ):\r\n",
        "        self.__laberinto.to_string()\r\n",
        "\r\n",
        "    \"\"\"\r\n",
        "    establece la entrada 'E' en la matriz, verificar limites perifericos\r\n",
        "    \"\"\"\r\n",
        "    def set_entrada( self , ren , col ):\r\n",
        "        # Terminar la validación de las coordenadas\r\n",
        "        self.__laberinto.set_item( ren , col , 'E' )\r\n",
        "\r\n",
        "\r\n",
        "    \"\"\"\r\n",
        "    Establecer salida, dentro de los límites periféricos de la matriz\r\n",
        "    \"\"\"\r\n",
        "    def set_salida( self , ren , col ):\r\n",
        "        # Terminar las validaciones\r\n",
        "        self.__laberinto.set_item( ren , col , 'S' )\r\n",
        "\r\n",
        "    def es_salida( self , ren , col ): # en la posicion actual es salida??\r\n",
        "        return self.__laberinto.get_item(ren,col) == 'S'\r\n",
        "\r\n",
        "    def buscar_entrada( self ):\r\n",
        "        encontrado = False\r\n",
        "        for renglon in range(self.__laberinto.get_num_rows() ):\r\n",
        "            for columna in range( self.__laberinto.get_num_cols() ):\r\n",
        "                if self.__laberinto.get_item(renglon,columna) == 'E':\r\n",
        "                    self.__camino.push( (renglon,columna) )\r\n",
        "                    encontrado = True\r\n",
        "        return encontrado\r\n",
        "\r\n",
        "    def set_previa( self , pos_previa ):\r\n",
        "        self.__previa = pos_previa\r\n",
        "\r\n",
        "    def get_previa( self ):\r\n",
        "        return self.__previa\r\n",
        "\r\n",
        "    def imprimir_camino( self ):\r\n",
        "        self.__camino.to_string()\r\n",
        "\r\n",
        "    def get_pos_actual( self ):\r\n",
        "        return self.__camino.peek()\r\n",
        "\r\n",
        "    def resolver_laberinto( self ):\r\n",
        "        actual = self.__camino.peek() #(5,2)\r\n",
        "\r\n",
        "        # buscar izquierda\r\n",
        "        # agragar validaciones para los límites del laberinto\r\n",
        "        if actual[1]-1 != -1 \\\r\n",
        "        and self.__laberinto.get_item(actual[0],actual[1]-1) == '0' \\\r\n",
        "        and self.get_previa() != (actual[0],actual[1]-1)  \\\r\n",
        "        and self.__laberinto.get_item(actual[0],actual[1]-1) != 'X':\r\n",
        "            self.set_previa( actual)\r\n",
        "            self.__camino.push( ( actual[0],actual[1]-1 ) )\r\n",
        "\r\n",
        "        # buscar arriba\r\n",
        "        elif actual[0]-1 != -1 \\\r\n",
        "        and self.__laberinto.get_item(actual[0]-1,actual[1]) == '0' \\\r\n",
        "        and self.get_previa() != (actual[0]-1,actual[1])  \\\r\n",
        "        and self.__laberinto.get_item(actual[0]-1,actual[1]) != 'X':\r\n",
        "            self.set_previa( actual)\r\n",
        "            self.__camino.push( (actual[0]-1,actual[1]) )\r\n",
        "        # buscar derecha\r\n",
        "        elif 1==0 :\r\n",
        "            pass\r\n",
        "\r\n",
        "        # buscar abajo\r\n",
        "        elif 1 == 0 :\r\n",
        "            pass\r\n",
        "        else:\r\n",
        "            self.__laberinto.set_item( actual[0] , actual[1] ,'X' )\r\n",
        "            self.__previa = actual\r\n",
        "            self.__camino.pop()"
      ],
      "execution_count": null,
      "outputs": []
    },
    {
      "cell_type": "code",
      "metadata": {
        "id": "LORSfNtZweBQ"
      },
      "source": [
        "laboratorio . to_string ()\r\n",
        "# imprimir la Pila\r\n",
        "laboratorio . imprimir_camino ()\r\n",
        "\r\n",
        "mientras   no de  laboratorio . es_salida ( lab . get_pos_actual () [ 0 ], lab . get_pos_actual () [ 1 ]):\r\n",
        "    imprimir ( \"probar\" )\r\n",
        "    laboratorio . resolver_laberinto ()\r\n",
        "    laboratorio . imprimir_camino ()\r\n",
        "    tiempo . dormir ( 1.0 )"
      ],
      "execution_count": null,
      "outputs": []
    }
  ]
}