{
  "nbformat": 4,
  "nbformat_minor": 0,
  "metadata": {
    "colab": {
      "name": "Tarea2.ipynb",
      "provenance": [],
      "authorship_tag": "ABX9TyMc7VY/j4VLG4Df/ZuKhYNa",
      "include_colab_link": true
    },
    "kernelspec": {
      "name": "python3",
      "display_name": "Python 3"
    }
  },
  "cells": [
    {
      "cell_type": "markdown",
      "metadata": {
        "id": "view-in-github",
        "colab_type": "text"
      },
      "source": [
        "<a href=\"https://colab.research.google.com/github/lisseta/edd_1310_2021/blob/master/Tarea2.ipynb\" target=\"_parent\"><img src=\"https://colab.research.google.com/assets/colab-badge.svg\" alt=\"Open In Colab\"/></a>"
      ]
    },
    {
      "cell_type": "code",
      "metadata": {
        "id": "I3BVjr7pkPNK",
        "outputId": "38d6c14f-7ee5-436c-d170-9d0e38179b86",
        "colab": {
          "base_uri": "https://localhost:8080/",
          "height": 129
        }
      },
      "source": [
        "archivo= open(\"Datos.txt\",\"rt\")\n",
        "numeros=archivo.readlines()\n",
        "archivo.close()\n",
        "\n",
        "for j in range(0,len(numeros),1):\n",
        "  numeros[j]=numeros[j].strip().replace(\" \",\"\").split(\",\")\n",
        "#numeros.pop(1:10)\n",
        "\n",
        "#numeros.pop(10)\n",
        "#numeros.pop(10)\n",
        "#sumatoria=\" \".join(numeros)\n",
        "#sumatoria=numeros.split(\",\")\n",
        "print(numeros)\n",
        "#print(sumatoria)\n",
        "\n"
      ],
      "execution_count": 50,
      "outputs": [
        {
          "output_type": "error",
          "ename": "SyntaxError",
          "evalue": "ignored",
          "traceback": [
            "\u001b[0;36m  File \u001b[0;32m\"<ipython-input-50-384c58b72d87>\"\u001b[0;36m, line \u001b[0;32m7\u001b[0m\n\u001b[0;31m    numeros.pop(1:10)\u001b[0m\n\u001b[0m                 ^\u001b[0m\n\u001b[0;31mSyntaxError\u001b[0m\u001b[0;31m:\u001b[0m invalid syntax\n"
          ]
        }
      ]
    },
    {
      "cell_type": "code",
      "metadata": {
        "id": "AX_sSVoYsneG",
        "outputId": "94d047ed-69ab-439f-c37f-fdd441d2bdbc",
        "colab": {
          "base_uri": "https://localhost:8080/",
          "height": 231
        }
      },
      "source": [
        "archivo= open(\"Datos.txt\",\"rt\")\n",
        "numeros=archivo.readlines()\n",
        "archivo.close()\n",
        "\n",
        "for j in range(0,len(numeros),1):\n",
        "  numeros[j]=numeros[j].strip().replace(\" \",\"\").split(\",\")\n",
        "numeros.pop(1) #Datos de cada renglon\n",
        "numeros.pop(1)\n",
        "numeros.pop(2)\n",
        "numeros.pop(2)\n",
        "numeros.pop(3)\n",
        "numeros.pop(3)\n",
        "numeros.pop(4)\n",
        "numeros.pop(5)\n",
        "numeros.pop(5)\n",
        "numeros.pop(6)\n",
        "numeros.pop(6)\n",
        "numeros.pop(7)\n",
        "numeros.pop(7)\n",
        "numeros.pop(8)\n",
        "numeros.pop(8)\n",
        "numeros.pop(9)\n",
        "numeros.pop(9)\n",
        "numeros.pop(10)\n",
        "numeros.pop(10)\n",
        "#numeros.pop(10)\n",
        "#numeros.pop(10)\n",
        "sumatoria=\" \".join(numeros)\n",
        "#sumatoria=numeros.split(\",\")\n",
        "print(numeros)\n",
        "#print(sumatoria)"
      ],
      "execution_count": 57,
      "outputs": [
        {
          "output_type": "error",
          "ename": "TypeError",
          "evalue": "ignored",
          "traceback": [
            "\u001b[0;31m---------------------------------------------------------------------------\u001b[0m",
            "\u001b[0;31mTypeError\u001b[0m                                 Traceback (most recent call last)",
            "\u001b[0;32m<ipython-input-57-b77e08a47d26>\u001b[0m in \u001b[0;36m<module>\u001b[0;34m()\u001b[0m\n\u001b[1;32m     26\u001b[0m \u001b[0;31m#numeros.pop(10)\u001b[0m\u001b[0;34m\u001b[0m\u001b[0;34m\u001b[0m\u001b[0;34m\u001b[0m\u001b[0m\n\u001b[1;32m     27\u001b[0m \u001b[0;31m#numeros.pop(10)\u001b[0m\u001b[0;34m\u001b[0m\u001b[0;34m\u001b[0m\u001b[0;34m\u001b[0m\u001b[0m\n\u001b[0;32m---> 28\u001b[0;31m \u001b[0msumatoria\u001b[0m\u001b[0;34m=\u001b[0m\u001b[0;34m\" \"\u001b[0m\u001b[0;34m.\u001b[0m\u001b[0mjoin\u001b[0m\u001b[0;34m(\u001b[0m\u001b[0mnumeros\u001b[0m\u001b[0;34m)\u001b[0m\u001b[0;34m\u001b[0m\u001b[0;34m\u001b[0m\u001b[0m\n\u001b[0m\u001b[1;32m     29\u001b[0m \u001b[0;31m#sumatoria=numeros.split(\",\")\u001b[0m\u001b[0;34m\u001b[0m\u001b[0;34m\u001b[0m\u001b[0;34m\u001b[0m\u001b[0m\n\u001b[1;32m     30\u001b[0m \u001b[0mprint\u001b[0m\u001b[0;34m(\u001b[0m\u001b[0mnumeros\u001b[0m\u001b[0;34m)\u001b[0m\u001b[0;34m\u001b[0m\u001b[0;34m\u001b[0m\u001b[0m\n",
            "\u001b[0;31mTypeError\u001b[0m: sequence item 0: expected str instance, list found"
          ]
        }
      ]
    },
    {
      "cell_type": "code",
      "metadata": {
        "id": "YaRGx3cNsnI9",
        "outputId": "5c404073-f968-46aa-d027-d9a20f9070d6",
        "colab": {
          "base_uri": "https://localhost:8080/",
          "height": 129
        }
      },
      "source": [
        "for j in range(len(numeros)):\n",
        "  for i in range(len(numeros[j])):\n",
        "  sumatoria=sumatoria+(int)(numeros[j][i])\n",
        "print(sumatoria)"
      ],
      "execution_count": 56,
      "outputs": [
        {
          "output_type": "error",
          "ename": "IndentationError",
          "evalue": "ignored",
          "traceback": [
            "\u001b[0;36m  File \u001b[0;32m\"<ipython-input-56-471760e7f10e>\"\u001b[0;36m, line \u001b[0;32m3\u001b[0m\n\u001b[0;31m    sumatoria=sumatoria+(int)(numeros[j][i])\u001b[0m\n\u001b[0m            ^\u001b[0m\n\u001b[0;31mIndentationError\u001b[0m\u001b[0;31m:\u001b[0m expected an indented block\n"
          ]
        }
      ]
    },
    {
      "cell_type": "code",
      "metadata": {
        "id": "LJkUx-X6nwoF"
      },
      "source": [
        "#archivo-entrada.py\n",
        "\n",
        "file= open (\"Datos.txt\", \"r\")\n",
        "mensaje= file.readlines()\n",
        "file.close()\n",
        "\n",
        "\n",
        "i=0\n",
        "fila=[30] \n",
        "numeros=[30]\n",
        "for j in range(len(mensaje)):\n",
        "    numeros=mensaje[j].find(\",\")\n",
        "\n",
        "while i<len(mensaje[0]):\n",
        "    fila.append(mensaje[0][:mensaje[0].find(\".\")])\n",
        "\n",
        "\n",
        "fila[0]=mensaje[0].replace(\",\",\" \").split()\n",
        "\n",
        "while i<30:\n",
        "    numeros[i]=fila[0][i]  #Tomar en cuenta este\n",
        "    i=i+1\n",
        "\n",
        "#print(fila[0][1])\n",
        "    print(numeros[1]) #PRUEBA 2 "
      ],
      "execution_count": null,
      "outputs": []
    },
    {
      "cell_type": "code",
      "metadata": {
        "id": "Fh4llih6mKz-",
        "outputId": "b4f682bf-b395-4e83-8ed8-518b3c4e7602",
        "colab": {
          "base_uri": "https://localhost:8080/",
          "height": 527
        }
      },
      "source": [
        "resulporrenglon = 0\n",
        "resultotal = 0\n",
        "datosTotales = []\n",
        "datosRenglon = []\n",
        "iRenglon = []\n",
        "contador = 0\n",
        "\n",
        "f = open('Datos.txt', 'rt')\n",
        "\n",
        "while True:\n",
        "    renglon = f.readline()\n",
        "\n",
        "    if not renglon:\n",
        "        break\n",
        "\n",
        "    datosRenglonSeparados = list(renglon.replace(\",\", \" \").split())\n",
        "    iRenglon.append(datosRenglonSeparados)\n",
        "\n",
        "    resulporrenglon = 0\n",
        "    for elemento in iRenglon[contador]:\n",
        "\n",
        "        if elemento.isnumeric():\n",
        "            resulporrenglon += int(elemento)\n",
        "        else:\n",
        "            break\n",
        "\n",
        "    print(\n",
        "        f\"La suma de los elementos de la linea {contador + 1} es: {resulporrenglon} \"\n",
        "    )\n",
        "    contador += 1\n",
        "    datosTotales.append(resulporrenglon)\n",
        "\n",
        "for res in datosTotales:\n",
        "    resultotal += res\n",
        "\n",
        "print(f\"La suma total de los elementos es de: {resultotal}\")\n",
        "\n",
        "f.close()"
      ],
      "execution_count": 46,
      "outputs": [
        {
          "output_type": "stream",
          "text": [
            "La suma de los elementos de la linea 1 es: 406 \n",
            "La suma de los elementos de la linea 2 es: 0 \n",
            "La suma de los elementos de la linea 3 es: 367 \n",
            "La suma de los elementos de la linea 4 es: 0 \n",
            "La suma de los elementos de la linea 5 es: 814 \n",
            "La suma de los elementos de la linea 6 es: 0 \n",
            "La suma de los elementos de la linea 7 es: 391 \n",
            "La suma de los elementos de la linea 8 es: 0 \n",
            "La suma de los elementos de la linea 9 es: 786 \n",
            "La suma de los elementos de la linea 10 es: 0 \n",
            "La suma de los elementos de la linea 11 es: 513 \n",
            "La suma de los elementos de la linea 12 es: 0 \n",
            "La suma de los elementos de la linea 13 es: 745 \n",
            "La suma de los elementos de la linea 14 es: 0 \n",
            "La suma de los elementos de la linea 15 es: 585 \n",
            "La suma de los elementos de la linea 16 es: 0 \n",
            "La suma de los elementos de la linea 17 es: 154 \n",
            "La suma de los elementos de la linea 18 es: 0 \n",
            "La suma de los elementos de la linea 19 es: 220 \n",
            "La suma de los elementos de la linea 20 es: 0 \n",
            "La suma de los elementos de la linea 21 es: 0 \n",
            "La suma de los elementos de la linea 22 es: 0 \n",
            "La suma de los elementos de la linea 23 es: 0 \n",
            "La suma de los elementos de la linea 24 es: 0 \n",
            "La suma de los elementos de la linea 25 es: 0 \n",
            "La suma de los elementos de la linea 26 es: 0 \n",
            "La suma de los elementos de la linea 27 es: 0 \n",
            "La suma de los elementos de la linea 28 es: 0 \n",
            "La suma de los elementos de la linea 29 es: 0 \n",
            "La suma total de los elementos es de: 4981\n"
          ],
          "name": "stdout"
        }
      ]
    }
  ]
}