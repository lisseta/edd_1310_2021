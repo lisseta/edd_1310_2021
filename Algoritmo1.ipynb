{
  "nbformat": 4,
  "nbformat_minor": 0,
  "metadata": {
    "colab": {
      "name": "Algoritmo1.ipynb",
      "provenance": [],
      "authorship_tag": "ABX9TyP5h4MDGXhMSRzgbuYYmu/2",
      "include_colab_link": true
    },
    "kernelspec": {
      "name": "python3",
      "display_name": "Python 3"
    }
  },
  "cells": [
    {
      "cell_type": "markdown",
      "metadata": {
        "id": "view-in-github",
        "colab_type": "text"
      },
      "source": [
        "<a href=\"https://colab.research.google.com/github/lisseta/edd_1310_2021/blob/master/Algoritmo1.ipynb\" target=\"_parent\"><img src=\"https://colab.research.google.com/assets/colab-badge.svg\" alt=\"Open In Colab\"/></a>"
      ]
    },
    {
      "cell_type": "code",
      "metadata": {
        "colab": {
          "base_uri": "https://localhost:8080/"
        },
        "id": "qeJRqlJunhFJ",
        "outputId": "e2f23e00-e694-4bc4-9413-9a70efee67bb"
      },
      "source": [
        "def ordenamiento(numero):\r\n",
        "     numero -= 1\r\n",
        "     if numero > 0:\r\n",
        "         print (numero)\r\n",
        "         ordenamiento(numero)\r\n",
        "     else:\r\n",
        "         print (\"¡Boooooooom!\")\r\n",
        "     print(numero)\r\n",
        "\r\n",
        "ordenamiento(10)"
      ],
      "execution_count": 3,
      "outputs": [
        {
          "output_type": "stream",
          "text": [
            "9\n",
            "8\n",
            "7\n",
            "6\n",
            "5\n",
            "4\n",
            "3\n",
            "2\n",
            "1\n",
            "¡Boooooooom!\n",
            "0\n",
            "1\n",
            "2\n",
            "3\n",
            "4\n",
            "5\n",
            "6\n",
            "7\n",
            "8\n",
            "9\n"
          ],
          "name": "stdout"
        }
      ]
    }
  ]
}