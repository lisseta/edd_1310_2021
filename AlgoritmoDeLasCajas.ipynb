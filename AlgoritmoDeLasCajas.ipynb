{
  "nbformat": 4,
  "nbformat_minor": 0,
  "metadata": {
    "colab": {
      "name": "AlgoritmoDeLasCajas.ipynb",
      "provenance": [],
      "collapsed_sections": [],
      "authorship_tag": "ABX9TyPrzAl2SSML0vMUMY2n0ooR",
      "include_colab_link": true
    },
    "kernelspec": {
      "name": "python3",
      "display_name": "Python 3"
    },
    "language_info": {
      "name": "python"
    }
  },
  "cells": [
    {
      "cell_type": "markdown",
      "metadata": {
        "id": "view-in-github",
        "colab_type": "text"
      },
      "source": [
        "<a href=\"https://colab.research.google.com/github/lisseta/edd_1310_2021/blob/master/AlgoritmoDeLasCajas.ipynb\" target=\"_parent\"><img src=\"https://colab.research.google.com/assets/colab-badge.svg\" alt=\"Open In Colab\"/></a>"
      ]
    },
    {
      "cell_type": "markdown",
      "metadata": {
        "id": "v9mkvdFNbGIM"
      },
      "source": [
        "## ALGORITMO DE LAS CAJAS\n",
        "\n",
        "Sea un número ***n*** de cajas *con dimensiones* ***l, a, h.*** Encontrar el algoritmo que genere la torre más alta que se pueda hacer con la condición que el área de la base debe ser mayor o igual que la siguiente caja a colocar.\n"
      ]
    },
    {
      "cell_type": "markdown",
      "metadata": {
        "id": "SvOJSNJYhlxn"
      },
      "source": [
        "\n",
        "\n",
        "1. Por caja calcular 3 áreas, x,y,z. \n",
        "X,y\n",
        "X,z\n",
        "Y,z \n",
        "2. Ordenar mayor-menor respeto al área \n",
        "3. Ir generando la torre\n",
        "\n",
        "\n",
        "\n",
        "\n",
        "\n",
        "\n",
        "\n",
        "\n",
        "\n"
      ]
    },
    {
      "cell_type": "markdown",
      "metadata": {
        "id": "8eLevIORbHcg"
      },
      "source": [
        "Este algoritmo, determina el orden en que deben colocarse las cajas, para generarse la torre más alta y que el área de la base sea igual o mayor.\n",
        "\n",
        "Y muestra todas las combinaciones posibles.\n",
        " "
      ]
    },
    {
      "cell_type": "markdown",
      "metadata": {
        "id": "kUJtEkhVhOEr"
      },
      "source": [
        "**n=** Número de Cajas\n",
        "\n",
        "**a=**ancho, base\n",
        "\n",
        "**h=**altura\n",
        "\n",
        "**l**= largo"
      ]
    },
    {
      "cell_type": "code",
      "metadata": {
        "colab": {
          "base_uri": "https://localhost:8080/"
        },
        "id": "DnbaJm2XXllu",
        "outputId": "0d49918f-e2ed-4171-fd3b-236aa0339013"
      },
      "source": [
        "\n",
        "def cajas (n, l,a,h):\n",
        "  if n==1:\n",
        "    print(l+\"->\"+a)\n",
        "  else:\n",
        "      cajas(n-1, l, a, h)\n",
        "      print(l+ \"->\" +h)\n",
        "      cajas(n-1,a,h,l)\n",
        "\n",
        "d=int(input(\"El número de cajas es: \"))\n",
        "cajas(d, \"l\", \"h\", \"a\")\n"
      ],
      "execution_count": 11,
      "outputs": [
        {
          "output_type": "stream",
          "text": [
            "El número de cajas es: 7\n",
            "l->h\n",
            "l->a\n",
            "h->a\n",
            "l->a\n",
            "h->a\n",
            "h->l\n",
            "a->l\n",
            "l->a\n",
            "h->a\n",
            "h->l\n",
            "a->l\n",
            "h->l\n",
            "a->l\n",
            "a->h\n",
            "l->h\n",
            "l->a\n",
            "h->a\n",
            "h->l\n",
            "a->l\n",
            "h->l\n",
            "a->l\n",
            "a->h\n",
            "l->h\n",
            "h->l\n",
            "a->l\n",
            "a->h\n",
            "l->h\n",
            "a->h\n",
            "l->h\n",
            "l->a\n",
            "h->a\n",
            "l->a\n",
            "h->a\n",
            "h->l\n",
            "a->l\n",
            "h->l\n",
            "a->l\n",
            "a->h\n",
            "l->h\n",
            "h->l\n",
            "a->l\n",
            "a->h\n",
            "l->h\n",
            "a->h\n",
            "l->h\n",
            "l->a\n",
            "h->a\n",
            "h->l\n",
            "a->l\n",
            "a->h\n",
            "l->h\n",
            "a->h\n",
            "l->h\n",
            "l->a\n",
            "h->a\n",
            "a->h\n",
            "l->h\n",
            "l->a\n",
            "h->a\n",
            "l->a\n",
            "h->a\n",
            "h->l\n",
            "a->l\n",
            "l->a\n",
            "h->a\n",
            "h->l\n",
            "a->l\n",
            "h->l\n",
            "a->l\n",
            "a->h\n",
            "l->h\n",
            "h->l\n",
            "a->l\n",
            "a->h\n",
            "l->h\n",
            "a->h\n",
            "l->h\n",
            "l->a\n",
            "h->a\n",
            "h->l\n",
            "a->l\n",
            "a->h\n",
            "l->h\n",
            "a->h\n",
            "l->h\n",
            "l->a\n",
            "h->a\n",
            "a->h\n",
            "l->h\n",
            "l->a\n",
            "h->a\n",
            "l->a\n",
            "h->a\n",
            "h->l\n",
            "a->l\n",
            "h->l\n",
            "a->l\n",
            "a->h\n",
            "l->h\n",
            "a->h\n",
            "l->h\n",
            "l->a\n",
            "h->a\n",
            "a->h\n",
            "l->h\n",
            "l->a\n",
            "h->a\n",
            "l->a\n",
            "h->a\n",
            "h->l\n",
            "a->l\n",
            "a->h\n",
            "l->h\n",
            "l->a\n",
            "h->a\n",
            "l->a\n",
            "h->a\n",
            "h->l\n",
            "a->l\n",
            "l->a\n",
            "h->a\n",
            "h->l\n",
            "a->l\n",
            "h->l\n",
            "a->l\n",
            "a->h\n",
            "l->h\n"
          ],
          "name": "stdout"
        }
      ]
    },
    {
      "cell_type": "code",
      "metadata": {
        "id": "gJahMHetV_Nj"
      },
      "source": [
        "def mover (n, lado, base,altura): #n ->Numero de movimientos \n",
        "  if n>0:\n",
        "    mover(n-1,lado,altura,base)\n",
        "    base.append(lado.pop())\n",
        "    mover(n-1,altura, base, lado)\n",
        "\n",
        "    n=3\n",
        "    A=range(n,0,-1)\n",
        "    B=[]\n",
        "    C=[]\n",
        "    print(A,B,C)\n",
        "    mover(n,A,C,D)\n",
        "    print(A,B,C)"
      ],
      "execution_count": 2,
      "outputs": []
    }
  ]
}