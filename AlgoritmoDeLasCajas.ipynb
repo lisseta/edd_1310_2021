{
  "nbformat": 4,
  "nbformat_minor": 0,
  "metadata": {
    "colab": {
      "name": "AlgoritmoDeLasCajas.ipynb",
      "provenance": [],
      "collapsed_sections": [],
      "include_colab_link": true
    },
    "kernelspec": {
      "name": "python3",
      "display_name": "Python 3"
    },
    "language_info": {
      "name": "python"
    }
  },
  "cells": [
    {
      "cell_type": "markdown",
      "metadata": {
        "id": "view-in-github",
        "colab_type": "text"
      },
      "source": [
        "<a href=\"https://colab.research.google.com/github/lisseta/edd_1310_2021/blob/master/AlgoritmoDeLasCajas.ipynb\" target=\"_parent\"><img src=\"https://colab.research.google.com/assets/colab-badge.svg\" alt=\"Open In Colab\"/></a>"
      ]
    },
    {
      "cell_type": "markdown",
      "metadata": {
        "id": "v9mkvdFNbGIM"
      },
      "source": [
        "# ALGORITMO DE LAS CAJAS\n",
        "\n",
        "### Sea un número ***n*** de cajas *con dimensiones* ***l, a, h.*** Encontrar el algoritmo que genere la torre más alta que se pueda hacer con la condición que el área de la base debe ser mayor o igual que la siguiente caja a colocar.\n",
        "\n",
        "\n",
        "\n",
        "\n"
      ]
    },
    {
      "cell_type": "markdown",
      "metadata": {
        "id": "xqtEtfbIEivn"
      },
      "source": [
        "1. Obtener cuantas cajas voy a ordenar (n cajas)            #20 \n",
        "2. Obtener valores l,b,h                            #random \n",
        "3. Obtener el área de cada cara de la caja          #bxh\n",
        "4. Comparar las áreas de la caja para obtener la mayor y la menor   \n",
        "    \n",
        "     *Es una lista de tres valores\n",
        "\n",
        "     *\n",
        "5. Ordenar de mayor a menor, lás áreas más pequeñas (ya que, al estar la más pequeña hacía abajo, la más grande siempre estara a lo alto.)\n",
        "      *Esto garantiza la torre más alta \n",
        "\n",
        "\n",
        "![cajas.png](data:image/png;base64,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)\n",
        "\n",
        "\n",
        "6. Acomodar las cajas conforme al paso anterior\n",
        "7\n",
        "\n"
      ]
    },
    {
      "cell_type": "code",
      "metadata": {
        "id": "197pEMaiY4os"
      },
      "source": [
        "#El código se encuentra en proceso... "
      ],
      "execution_count": null,
      "outputs": []
    }
  ]
}