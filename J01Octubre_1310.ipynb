{
  "nbformat": 4,
  "nbformat_minor": 0,
  "metadata": {
    "colab": {
      "name": "J01Octubre_1310.ipynb",
      "provenance": [],
      "authorship_tag": "ABX9TyMY0PLnTTxdS46IwSBZ1rlx",
      "include_colab_link": true
    },
    "kernelspec": {
      "name": "python3",
      "display_name": "Python 3"
    }
  },
  "cells": [
    {
      "cell_type": "markdown",
      "metadata": {
        "id": "view-in-github",
        "colab_type": "text"
      },
      "source": [
        "<a href=\"https://colab.research.google.com/github/lisseta/edd_1310_2021/blob/master/J01Octubre_1310.ipynb\" target=\"_parent\"><img src=\"https://colab.research.google.com/assets/colab-badge.svg\" alt=\"Open In Colab\"/></a>"
      ]
    },
    {
      "cell_type": "code",
      "metadata": {
        "id": "9Vps_AM07ix5"
      },
      "source": [
        ""
      ],
      "execution_count": null,
      "outputs": []
    },
    {
      "cell_type": "markdown",
      "metadata": {
        "id": "AZCJpQnA7ufj"
      },
      "source": [
        "# Intro Python 3\n",
        "### Variables \n",
        "\n",
        "Tipo Dinámico\n"
      ]
    },
    {
      "cell_type": "code",
      "metadata": {
        "id": "_XoRkkVa78aq",
        "outputId": "7502eddd-ca8b-42b4-d960-9dfe55cdf0ed",
        "colab": {
          "base_uri": "https://localhost:8080/",
          "height": 51
        }
      },
      "source": [
        "escuela = \"FES Aragón\"\n",
        "print(escuela)\n",
        "print(\"-----\")\n"
      ],
      "execution_count": 1,
      "outputs": [
        {
          "output_type": "stream",
          "text": [
            "FES Aragón\n",
            "-----\n"
          ],
          "name": "stdout"
        }
      ]
    },
    {
      "cell_type": "markdown",
      "metadata": {
        "id": "4gsCooBO8Rt6"
      },
      "source": [
        "Tipo Entero"
      ]
    },
    {
      "cell_type": "code",
      "metadata": {
        "id": "epTc2iiA8ZQ3"
      },
      "source": [
        "edad=20\n",
        "estatura=1.55\n"
      ],
      "execution_count": 2,
      "outputs": []
    },
    {
      "cell_type": "markdown",
      "metadata": {
        "id": "5m9Sznwy8itU"
      },
      "source": [
        "Tipo String \n",
        "#####fumador= True\n"
      ]
    },
    {
      "cell_type": "code",
      "metadata": {
        "id": "NAtmSt_79HY4",
        "outputId": "914e355c-450e-4996-8959-04ea73175ba4",
        "colab": {
          "base_uri": "https://localhost:8080/",
          "height": 68
        }
      },
      "source": [
        "frase = \"\"\"\n",
        "Esta es una frase de multiples líneas y también es un tipo de dato\n",
        "\"\"\"\n",
        "print(frase)\n",
        "nombre= \"Lizeth\"\n",
        "nombre_completo= \"Lizeth Evelyn H. Piedras\"\n"
      ],
      "execution_count": 8,
      "outputs": [
        {
          "output_type": "stream",
          "text": [
            "\n",
            "Esta es una frase de multiples líneas y también es un tipo de dato\n",
            "\n"
          ],
          "name": "stdout"
        }
      ]
    },
    {
      "cell_type": "markdown",
      "metadata": {
        "id": "qIZjDa4-98VC"
      },
      "source": [
        "#Print \n",
        "con comas ,\n",
        "con signo +, \n",
        "con format()\n",
        "con el operador \"f\"\n"
      ]
    },
    {
      "cell_type": "code",
      "metadata": {
        "id": "YHXM1IXz-nmD",
        "outputId": "fc9f9ad5-829b-40b5-c194-3063dbe22fbd",
        "colab": {
          "base_uri": "https://localhost:8080/",
          "height": 34
        }
      },
      "source": [
        "print(nombre,edad)\n"
      ],
      "execution_count": 10,
      "outputs": [
        {
          "output_type": "stream",
          "text": [
            "Lizeth 13\n"
          ],
          "name": "stdout"
        }
      ]
    },
    {
      "cell_type": "code",
      "metadata": {
        "id": "oN7IoBg3_B6d",
        "outputId": "3424b47f-9365-46e7-8804-df9e770f7f96",
        "colab": {
          "base_uri": "https://localhost:8080/",
          "height": 51
        }
      },
      "source": [
        "# El signo + concatena cadenas. No olvidar convertirlo\n",
        "print(nombre+str(edad))\n",
        "print(nombre+nombre_completo)"
      ],
      "execution_count": 12,
      "outputs": [
        {
          "output_type": "stream",
          "text": [
            "Lizeth13\n",
            "LizethLizeth Evelyn H. Piedras\n"
          ],
          "name": "stdout"
        }
      ]
    },
    {
      "cell_type": "code",
      "metadata": {
        "id": "eln9XAUzAO0i",
        "outputId": "e2686a05-3d5b-463f-b36a-d991d4f1d0f2",
        "colab": {
          "base_uri": "https://localhost:8080/",
          "height": 68
        }
      },
      "source": [
        "#con formato -> Nombre: Lizeth y su edad es 20 años.\n",
        "print(\"Su nombre es\", nombre,\" y su edad es de\", edad, \"años.\")\n",
        "print(\"Su nombres es {0} y su edad es de {1} años.\".format(nombre,edad))\n",
        "#{} son los comodines.\n",
        "#Intercambio de comodines\n",
        "print(\"Su nombres es {1} y su edad es de {0} años.\".format(nombre,edad))\n",
        "#El format te permite jugar con los índices\n"
      ],
      "execution_count": 18,
      "outputs": [
        {
          "output_type": "stream",
          "text": [
            "Su nombre es Lizeth  y su edad es de 13 años.\n",
            "Su nombres es Lizeth y su edad es de 13 años.\n",
            "Su nombres es 13 y su edad es de Lizeth años.\n"
          ],
          "name": "stdout"
        }
      ]
    },
    {
      "cell_type": "code",
      "metadata": {
        "id": "Ec5M-ifuBts5",
        "outputId": "349f5659-4f0d-4c76-96b2-88976116a82c",
        "colab": {
          "base_uri": "https://localhost:8080/",
          "height": 34
        }
      },
      "source": [
        "#Formato operador f\"\"\n",
        "print (f\"Su nombre es {nombre} y su edad es de {edad} años.\")"
      ],
      "execution_count": 19,
      "outputs": [
        {
          "output_type": "stream",
          "text": [
            "Su nombre es Lizeth y su edad es de 13 años.\n"
          ],
          "name": "stdout"
        }
      ]
    },
    {
      "cell_type": "markdown",
      "metadata": {
        "id": "ZIaK4fYjCcrq"
      },
      "source": [
        "#Carácter de escape\n",
        "\\n salto de línea,\n",
        "\\t tabulador,\n",
        "\\a beep,\n",
        "\\\\\" , Imprimir comilla doble\n",
        "\\\\' ,  Imprimir comilla simple\n"
      ]
    },
    {
      "cell_type": "code",
      "metadata": {
        "id": "GD_J0V2UDFpR",
        "outputId": "35027297-8cc5-4f12-df07-f5a51342a67a",
        "colab": {
          "base_uri": "https://localhost:8080/",
          "height": 51
        }
      },
      "source": [
        "\"\"\"Esto es un comentatio de múltiple línea\n",
        "\"\"\"\n",
        "print(f\"\\t Mi nombre es\\n\\t\\t {nombre}\")"
      ],
      "execution_count": 20,
      "outputs": [
        {
          "output_type": "stream",
          "text": [
            "\t Mi nombre es\n",
            "\t\t Lizeth\n"
          ],
          "name": "stdout"
        }
      ]
    },
    {
      "cell_type": "markdown",
      "metadata": {
        "id": "WOFgHYNJD6be"
      },
      "source": [
        "#Documentación en Python\n",
        "## Ayuda de tipos de dato en Python\n",
        "dir() Muy general,\n",
        "help() Más detalle.\n"
      ]
    },
    {
      "cell_type": "code",
      "metadata": {
        "id": "HX9n8rT7ERI5"
      },
      "source": [
        "#str, int, float, bool... list, dict, set\n",
        "dir(str)\n",
        "#Lista de funciones y atributos que tiene dicha función\n",
        "#Probar cada función, todas de ÚTILIDAD.\n",
        "help(str) \n",
        "#Todos los que tienen guíon bajo, son PRIVADOS, no se deberían usar. \n",
        "#R E C O M E N D A C I O N \n",
        "#No utilizar help con línea de código."
      ],
      "execution_count": null,
      "outputs": []
    },
    {
      "cell_type": "code",
      "metadata": {
        "id": "bWwchkCUFOfW",
        "outputId": "b26ba8bf-0331-4d57-d9ed-6f6cf0d77de7",
        "colab": {
          "base_uri": "https://localhost:8080/",
          "height": 51
        }
      },
      "source": [
        "print(nombre_completo.capitalize())\n",
        "print(nombre_completo.upper(), end=\"-----\")\n",
        "print(nombre_completo.title())"
      ],
      "execution_count": 27,
      "outputs": [
        {
          "output_type": "stream",
          "text": [
            "Lizeth evelyn h. piedras\n",
            "LIZETH EVELYN H. PIEDRAS-----Lizeth Evelyn H. Piedras\n"
          ],
          "name": "stdout"
        }
      ]
    },
    {
      "cell_type": "code",
      "metadata": {
        "id": "bjYfv2I2GFDG",
        "outputId": "4368b9dd-9e12-423a-e2fa-065494ffcd2b",
        "colab": {
          "base_uri": "https://localhost:8080/",
          "height": 221
        }
      },
      "source": [
        "help(print)\n",
        "#Definición de PRINT \n",
        "#print(value, ..., sep=' ', end='\\n', file=sys.stdout, flush=False)\n",
        "#file Salida Estándar\n",
        "#flush limpiar el buffer\n"
      ],
      "execution_count": 26,
      "outputs": [
        {
          "output_type": "stream",
          "text": [
            "Help on built-in function print in module builtins:\n",
            "\n",
            "print(...)\n",
            "    print(value, ..., sep=' ', end='\\n', file=sys.stdout, flush=False)\n",
            "    \n",
            "    Prints the values to a stream, or to sys.stdout by default.\n",
            "    Optional keyword arguments:\n",
            "    file:  a file-like object (stream); defaults to the current sys.stdout.\n",
            "    sep:   string inserted between values, default a space.\n",
            "    end:   string appended after the last value, default a newline.\n",
            "    flush: whether to forcibly flush the stream.\n",
            "\n"
          ],
          "name": "stdout"
        }
      ]
    },
    {
      "cell_type": "markdown",
      "metadata": {
        "id": "m6NtCP4WGxcQ"
      },
      "source": [
        "#Clase String\n",
        "Manejada como arreglo (C o Java) o Lista(Python)\n"
      ]
    },
    {
      "cell_type": "code",
      "metadata": {
        "id": "TJKQ8JRrHbxv",
        "outputId": "54fb159e-b83a-4045-b683-966d1d99f7fa",
        "colab": {
          "base_uri": "https://localhost:8080/",
          "height": 51
        }
      },
      "source": [
        "telefono= \"Huawei mate 30 pro\" \n",
        "print(telefono[0])\n",
        "print(telefono[5])"
      ],
      "execution_count": 30,
      "outputs": [
        {
          "output_type": "stream",
          "text": [
            "H\n",
            "i\n"
          ],
          "name": "stdout"
        }
      ]
    },
    {
      "cell_type": "markdown",
      "metadata": {
        "id": "SbHr-B6qIKor"
      },
      "source": [
        "#Slicing (rebanado)\n",
        "Tiene una sintaxis [::] ->\n",
        "[ini : stop : incremento]\n",
        "\n",
        "Nota: STOP no se incluye\n",
        "\n"
      ]
    },
    {
      "cell_type": "code",
      "metadata": {
        "id": "iH4bWJFRIb7E",
        "outputId": "26815b5d-01b1-45c1-c249-335fcba4a0b9",
        "colab": {
          "base_uri": "https://localhost:8080/",
          "height": 119
        }
      },
      "source": [
        "print(telefono[7:11:1])\n",
        "#El inicio e incremento son opcionales\n",
        "print(telefono[:11:])\n",
        "#El valor por defecto de STOP es len(str), El tamaño de la cadena\n",
        "print(telefono[::])\n",
        "#Incremento negativo\n",
        "print(telefono[::-1])\n",
        "#Slacing Negativo\n",
        "print(telefono[-3::1]) \n",
        "ini=-3\n",
        "inc=1\n",
        "print(telefono[ini::inc])\n"
      ],
      "execution_count": 37,
      "outputs": [
        {
          "output_type": "stream",
          "text": [
            "mate\n",
            "Huawei mate\n",
            "Huawei mate 30 pro\n",
            "orp 03 etam iewauH\n",
            "pro\n",
            "pro\n"
          ],
          "name": "stdout"
        }
      ]
    },
    {
      "cell_type": "markdown",
      "metadata": {
        "id": "J8rhbobaN1xC"
      },
      "source": [
        "#Métodos de String (Str)\n",
        "Exiten métodos muy útiles en esta clase\n",
        "\n"
      ]
    },
    {
      "cell_type": "code",
      "metadata": {
        "id": "DnAnO5_eOBg7",
        "outputId": "8a3903ef-b2c5-4122-f63d-49c2d9e61f6f",
        "colab": {
          "base_uri": "https://localhost:8080/",
          "height": 221
        }
      },
      "source": [
        "facultad=\"   facultad de estudios superiores aragon   \"\n",
        "print(facultad)\n",
        "print(facultad.count(\"u\") ) #Hace el conteo del numero de elementos en la cadena\n",
        "print(facultad.find(\"s\"))\n",
        "print(facultad.strip())\n",
        "tamaño=len(facultad)\n",
        "print(len(facultad)) #Da la longitud del String(de la cadena) \n",
        "print(f\"tamaño de la cadena es {tamaño} caracteres\")\n",
        "print(facultad.split(\"t\")) #Elimina los espacios izquierda/derecha\n",
        "#Esto es una lista ['   fac', 'ltad de est', 'dios s', 'periores aragon   ']\n",
        "\n",
        "print(facultad)\n",
        "print(facultad.strip().split(\" \"))\n",
        "\n",
        "print(\"-----\")\n",
        "\n",
        "otra_cadena=\"FES Aragón\"\n",
        "print(facultad)\n",
        "print(otra_cadena)\n",
        "\n",
        "\n",
        "\n",
        "\n",
        "\n",
        "\n",
        "\n",
        "\n"
      ],
      "execution_count": 49,
      "outputs": [
        {
          "output_type": "stream",
          "text": [
            "   facultad de estudios superiores aragon   \n",
            "3\n",
            "16\n",
            "facultad de estudios superiores aragon\n",
            "44\n",
            "tamaño de la cadena es 44 caracteres\n",
            "['   facul', 'ad de es', 'udios superiores aragon   ']\n",
            "   facultad de estudios superiores aragon   \n",
            "['facultad', 'de', 'estudios', 'superiores', 'aragon']\n",
            "-----\n",
            "   facultad de estudios superiores aragon   \n",
            "FES Aragón\n"
          ],
          "name": "stdout"
        }
      ]
    },
    {
      "cell_type": "code",
      "metadata": {
        "id": "lJ_qT6i7TKZx",
        "outputId": "6e79f659-b571-451e-a1d3-878a8375d8d4",
        "colab": {
          "base_uri": "https://localhost:8080/",
          "height": 85
        }
      },
      "source": [
        "#Copiar Listas\n",
        "colores = [\"rojo\",\"verde\"]\n",
        "otra=colores.copy()\n",
        "print(colores)\n",
        "print(otra)\n",
        "otra.append(\"rosa\")\n",
        "print(colores)\n",
        "print(otra)\n",
        " "
      ],
      "execution_count": 50,
      "outputs": [
        {
          "output_type": "stream",
          "text": [
            "['rojo', 'verde']\n",
            "['rojo', 'verde']\n",
            "['rojo', 'verde']\n",
            "['rojo', 'verde', 'rosa']\n"
          ],
          "name": "stdout"
        }
      ]
    }
  ]
}