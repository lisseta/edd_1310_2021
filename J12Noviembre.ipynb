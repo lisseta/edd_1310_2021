{
  "nbformat": 4,
  "nbformat_minor": 0,
  "metadata": {
    "colab": {
      "name": "J12Noviembre.ipynb",
      "provenance": [],
      "authorship_tag": "ABX9TyMl49Aee2v3Dhr7T8TmnCZm",
      "include_colab_link": true
    },
    "kernelspec": {
      "name": "python3",
      "display_name": "Python 3"
    }
  },
  "cells": [
    {
      "cell_type": "markdown",
      "metadata": {
        "id": "view-in-github",
        "colab_type": "text"
      },
      "source": [
        "<a href=\"https://colab.research.google.com/github/lisseta/edd_1310_2021/blob/master/J12Noviembre.ipynb\" target=\"_parent\"><img src=\"https://colab.research.google.com/assets/colab-badge.svg\" alt=\"Open In Colab\"/></a>"
      ]
    },
    {
      "cell_type": "code",
      "metadata": {
        "id": "LUruo2u2g8CM",
        "outputId": "dacdf75d-8d24-44ca-fcc6-394f3ba00596",
        "colab": {
          "base_uri": "https://localhost:8080/"
        }
      },
      "source": [
        "class Nodo:\n",
        "    def __init__( self , dato ):\n",
        "        self.dato = dato\n",
        "        self.siguiente = None\n",
        "\n",
        "#ejemplo 1\n",
        "a= Nodo(12)\n",
        "print(a.dato)\n",
        "print(a.siguiente)\n",
        "\n",
        "#Empieza agregar mas elementos\n",
        "#Ejemplo 2\n",
        "a.siguiente=Nodo(20)\n",
        "print(a.siguiente)\n",
        "#Ejemplo 3\n",
        "a.siguiente.siguiente= Nodo(30)\n",
        "\n",
        "#Ejemplo 4\n",
        "a.siguiente.siguiente.siguiente= Nodo(40)\n",
        "\n",
        "#Ejemplo 5\n",
        "a.siguiente.siguiente.siguiente.siguiente=Nodo(50)\n",
        "#Corrido Transversal\n",
        "curr_node=a\n",
        "print(curr_node.dato, \"==>\", end=\"\")\n",
        "while(curr_node.siguiente != None):\n",
        "    curr_node = curr_node.siguiente\n",
        "    print(curr_node.dato,\"==>\",end=\"\")\n",
        "    print(\"\")"
      ],
      "execution_count": 1,
      "outputs": [
        {
          "output_type": "stream",
          "text": [
            "12\n",
            "None\n",
            "<__main__.Nodo object at 0x7fa6eabf1eb8>\n",
            "12 ==>20 ==>\n",
            "30 ==>\n",
            "40 ==>\n",
            "50 ==>\n"
          ],
          "name": "stdout"
        }
      ]
    },
    {
      "cell_type": "markdown",
      "metadata": {
        "id": "vWDZYH8skoCb"
      },
      "source": [
        "#Prueba 2, seguimiento de la clase"
      ]
    },
    {
      "cell_type": "code",
      "metadata": {
        "id": "Iy8emX6Nj3cH",
        "outputId": "6809370b-0243-4b73-84d5-26b408c5a265",
        "colab": {
          "base_uri": "https://localhost:8080/",
          "height": 280
        }
      },
      "source": [
        "class Node:\n",
        "  def __init__(self, dato):\n",
        "    self.dato = dato\n",
        "    self.siguiente = None\n",
        "\n",
        "#Ejemplo 1\n",
        "a = Node( 10 )\n",
        "\n",
        "#Ejemplo 2\n",
        "a.siguiente = Node( 20 )\n",
        "\n",
        "#Ejemplo 3\n",
        "a.siguiente.siguiente = Node( 30 )\n",
        "\n",
        "#Ejemplo 4\n",
        "a.siguiente.siguiente.siguiente = Node( 40 )\n",
        "\n",
        "#Ejemplo 5\n",
        "a.siguiente.siguiente.siguiente.siguiente = Node( 50 )\n",
        "\n",
        "#Ejemplo 6   Borrar el Node( 30 )\n",
        "a.siguiente.siguiente = a.siguiente.siguiente.siguiente\n",
        "\n",
        "#Ejemplo 7   Borrar el Node( 30 )\n",
        "#a.siguiente = a.siguiente.siguiente.siguiente.siguiente\n",
        "\n",
        "#Ejemplo 7   Borrar el Node( 30 )\n",
        "a.siguiente = a.siguiente.siguiente.siguiente.siguiente\n",
        "\n",
        "#Corrido TRansversal\n",
        "curr_node=a\n",
        "print(curr_node.dato,\"--> \", end=\"\")\n",
        "while( curr_node.siguiente != None):\n",
        "  curr_node = curr_node.siguiente\n",
        "  print(curr_node.dato,\"--> \", end=\"\")\n",
        "print(\"END\")\n",
        "\n",
        "#Ejemplo 8 Insertar un dato entre dos.\n",
        "tmp= a.siguiente.siguiente.siguiente #Respaldo mi nodo 50, para que no se pierda\n",
        "a.siguiente.siguiente.siguiente=Nodo(48) #creo mi nuevo nodo\n",
        "a.siguiente.siguiente.siguiente.siguiente= tmp #vuelvo agregar mi nodo 50"
      ],
      "execution_count": 7,
      "outputs": [
        {
          "output_type": "stream",
          "text": [
            "10 --> END\n"
          ],
          "name": "stdout"
        },
        {
          "output_type": "error",
          "ename": "AttributeError",
          "evalue": "ignored",
          "traceback": [
            "\u001b[0;31m---------------------------------------------------------------------------\u001b[0m",
            "\u001b[0;31mAttributeError\u001b[0m                            Traceback (most recent call last)",
            "\u001b[0;32m<ipython-input-7-94de1242cf95>\u001b[0m in \u001b[0;36m<module>\u001b[0;34m()\u001b[0m\n\u001b[1;32m     37\u001b[0m \u001b[0;34m\u001b[0m\u001b[0m\n\u001b[1;32m     38\u001b[0m \u001b[0;31m#Ejemplo 8 Insertar un dato entre dos.\u001b[0m\u001b[0;34m\u001b[0m\u001b[0;34m\u001b[0m\u001b[0;34m\u001b[0m\u001b[0m\n\u001b[0;32m---> 39\u001b[0;31m \u001b[0mtmp\u001b[0m\u001b[0;34m=\u001b[0m \u001b[0ma\u001b[0m\u001b[0;34m.\u001b[0m\u001b[0msiguiente\u001b[0m\u001b[0;34m.\u001b[0m\u001b[0msiguiente\u001b[0m\u001b[0;34m.\u001b[0m\u001b[0msiguiente\u001b[0m\u001b[0;31m#Respaldo mi nodo 50, para que no se pierda\u001b[0m\u001b[0;34m\u001b[0m\u001b[0;34m\u001b[0m\u001b[0m\n\u001b[0m\u001b[1;32m     40\u001b[0m \u001b[0ma\u001b[0m\u001b[0;34m.\u001b[0m\u001b[0msiguiente\u001b[0m\u001b[0;34m.\u001b[0m\u001b[0msiguiente\u001b[0m\u001b[0;34m.\u001b[0m\u001b[0msiguiente\u001b[0m\u001b[0;34m=\u001b[0m\u001b[0mNodo\u001b[0m\u001b[0;34m(\u001b[0m\u001b[0;36m48\u001b[0m\u001b[0;34m)\u001b[0m \u001b[0;31m#creo mi nuevo nodo\u001b[0m\u001b[0;34m\u001b[0m\u001b[0;34m\u001b[0m\u001b[0m\n\u001b[1;32m     41\u001b[0m \u001b[0ma\u001b[0m\u001b[0;34m.\u001b[0m\u001b[0msiguiente\u001b[0m\u001b[0;34m.\u001b[0m\u001b[0msiguiente\u001b[0m\u001b[0;34m.\u001b[0m\u001b[0msiguiente\u001b[0m\u001b[0;34m.\u001b[0m\u001b[0msiguiente\u001b[0m\u001b[0;34m=\u001b[0m \u001b[0mtmp\u001b[0m \u001b[0;31m#vuelvo agregar mi nodo 50\u001b[0m\u001b[0;34m\u001b[0m\u001b[0;34m\u001b[0m\u001b[0m\n",
            "\u001b[0;31mAttributeError\u001b[0m: 'NoneType' object has no attribute 'siguiente'"
          ]
        }
      ]
    },
    {
      "cell_type": "markdown",
      "metadata": {
        "id": "2dhqZ8fMqjHv"
      },
      "source": [
        "#Codigo Definitivo"
      ]
    },
    {
      "cell_type": "code",
      "metadata": {
        "id": "CPbWGEsLqWVK",
        "outputId": "6a42a43a-e398-475c-f3ca-5389baa7a43d",
        "colab": {
          "base_uri": "https://localhost:8080/"
        }
      },
      "source": [
        "class Nodo:\n",
        "    def __init__( self , dato ):\n",
        "        self.dato = dato\n",
        "        self.siguiente = None\n",
        "\n",
        "\n",
        "# ejemplo 1\n",
        "a = Nodo( 12 )\n",
        "print( a.dato )\n",
        "print( a.siguiente )\n",
        "\n",
        "# ejemplo 2\n",
        "a.siguiente = Nodo( 20 )\n",
        "\n",
        "#ejemplo 3\n",
        "\n",
        "a.siguiente.siguiente=Nodo(30)\n",
        "\n",
        "#ejemplo 4\n",
        "a.siguiente.siguiente.siguiente=Nodo(40)\n",
        "\n",
        "#ejemplo 5\n",
        "a.siguiente.siguiente.siguiente.siguiente=Nodo(50)\n",
        "\n",
        "#Eliminando nodo 30 ejemplo 6\n",
        "\n",
        "a.siguiente.siguiente=a.siguiente.siguiente.siguiente\n",
        "\n",
        "# ejemplo 7\n",
        "a.siguiente.siguiente.dato = 45\n",
        "\n",
        "#EJEMPLO 8 insertar dato\n",
        "tmp= a.siguiente.siguiente.siguiente #Respaldo mi nodo 50, para que no se pierda\n",
        "a.siguiente.siguiente.siguiente=Nodo(48) #creo mi nuevo nodo\n",
        "a.siguiente.siguiente.siguiente.siguiente= tmp #vuelvo agregar mi nodo 50\n",
        "\n",
        "\n",
        "curr_node = a\n",
        "print(curr_node.dato , \"-->\" , end=\"\")\n",
        "while( curr_node.siguiente != None ):\n",
        "    curr_node = curr_node.siguiente\n",
        "    print(curr_node.dato, \"-->\" , end=\"\")\n",
        "print(\"\")"
      ],
      "execution_count": 13,
      "outputs": [
        {
          "output_type": "stream",
          "text": [
            "12\n",
            "None\n",
            "12 -->20 -->45 -->48 -->50 -->\n"
          ],
          "name": "stdout"
        }
      ]
    },
    {
      "cell_type": "code",
      "metadata": {
        "id": "7EHS_oSGsgNs",
        "outputId": "e5483ac6-ce84-4d54-9075-01ad11b9ed46",
        "colab": {
          "base_uri": "https://localhost:8080/"
        }
      },
      "source": [
        "class Nodo:\n",
        "    def __init__( self , dato ):\n",
        "        self.dato = dato\n",
        "        self.siguiente = None\n",
        "\n",
        "\n",
        "# ejemplo 1\n",
        "a = Nodo( 12 )\n",
        "print( a.dato )\n",
        "print( a.siguiente )\n",
        "\n",
        "# ejemplo 2\n",
        "a.siguiente = Nodo( 20 )\n",
        "\n",
        "#ejemplo 3\n",
        "\n",
        "a.siguiente.siguiente=Nodo(30)\n",
        "\n",
        "#ejemplo 4\n",
        "a.siguiente.siguiente.siguiente=Nodo(40)\n",
        "\n",
        "#ejemplo 5\n",
        "a.siguiente.siguiente.siguiente.siguiente=Nodo(50)\n",
        "\n",
        "#Eliminando nodo 30 ejemplo 6\n",
        "\n",
        "a.siguiente.siguiente=a.siguiente.siguiente.siguiente\n",
        "\n",
        "# ejemplo 7\n",
        "a.siguiente.siguiente.dato = 45\n",
        "\n",
        "#EJEMPLO 8 insertar dato\n",
        "tmp=a.siguiente.siguiente.siguiente #se crea una temporal, para noperder referencia\n",
        "a.siguiente.siguiente.siguiente=Nodo(48)#Creando nodo que se va insertar\n",
        "a.siguiente.siguiente.siguiente.siguiente=tmp"
      ],
      "execution_count": 12,
      "outputs": [
        {
          "output_type": "stream",
          "text": [
            "12\n",
            "None\n"
          ],
          "name": "stdout"
        }
      ]
    },
    {
      "cell_type": "code",
      "metadata": {
        "id": "rGzZQFK1wMNJ",
        "outputId": "9249a925-3bd1-4450-efea-4c0762907966",
        "colab": {
          "base_uri": "https://localhost:8080/"
        }
      },
      "source": [
        "class Nodo:\n",
        "    def __init__( self , dato  , sig=None ):\n",
        "        self.dato = dato\n",
        "        self.siguiente = sig\n",
        "\n",
        "# ejemplo 1\n",
        "a = Nodo( 10 )\n",
        "\n",
        "# ejemplo 2   RECONSTRUCCION\n",
        "a = Nodo(10 , Nodo(20) )\n",
        "\n",
        "a = Nodo(10 , Nodo(20, Nodo(30)) )\n",
        "\n",
        "a = Nodo(10 , Nodo(20, Nodo(30,Nodo(40,Nodo(50)))) )\n",
        "\n",
        "\n",
        "\n",
        "\n",
        "\n",
        "\n",
        "\n",
        "curr_node = a\n",
        "print(curr_node.dato , \"-->\" , end=\"\")\n",
        "while( curr_node.siguiente != None ):\n",
        "    curr_node = curr_node.siguiente\n",
        "    print(curr_node.dato, \"-->\" , end=\"\")\n",
        "print(\"\")"
      ],
      "execution_count": 15,
      "outputs": [
        {
          "output_type": "stream",
          "text": [
            "10 -->20 -->30 -->40 -->50 -->\n"
          ],
          "name": "stdout"
        }
      ]
    },
    {
      "cell_type": "code",
      "metadata": {
        "id": "xm5U1oLBwN7a"
      },
      "source": [
        ""
      ],
      "execution_count": null,
      "outputs": []
    }
  ]
}