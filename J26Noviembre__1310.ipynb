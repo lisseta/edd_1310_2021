{
  "nbformat": 4,
  "nbformat_minor": 0,
  "metadata": {
    "colab": {
      "name": "J26Noviembre _1310.ipynb",
      "provenance": [],
      "authorship_tag": "ABX9TyNar6lNPJxJuEuwKKeCx4CB",
      "include_colab_link": true
    },
    "kernelspec": {
      "name": "python3",
      "display_name": "Python 3"
    }
  },
  "cells": [
    {
      "cell_type": "markdown",
      "metadata": {
        "id": "view-in-github",
        "colab_type": "text"
      },
      "source": [
        "<a href=\"https://colab.research.google.com/github/lisseta/edd_1310_2021/blob/master/J26Noviembre__1310.ipynb\" target=\"_parent\"><img src=\"https://colab.research.google.com/assets/colab-badge.svg\" alt=\"Open In Colab\"/></a>"
      ]
    },
    {
      "cell_type": "code",
      "metadata": {
        "id": "M4UsZ2TyqyEo"
      },
      "source": [
        "class Stack:  #CONSTRUCTOR\n",
        "  def __init__(self):\n",
        "    self.__data= list()\n",
        "\n",
        "  def is_empty(self): #¿Esta vacìa?\n",
        "    return len(self.__data) == 0\n",
        "\n",
        "  def lenght (self): #Numero de elementos de la pila \n",
        "    return len(self.__data)\n",
        "\n",
        "  def pop(self): #Saca elemento y regresa\n",
        "    if self.is_empty():\n",
        "      print(\"La pila està vacìa\")\n",
        "      else:\n",
        "        return self.__data.pop()\n",
        "\n",
        "  def push(self, value):\n",
        "    self.__data.append(value)\n",
        "\n",
        "  def peek (self):\n",
        "    return self.__data[ len(self.__data)-1 ]\n",
        "\n",
        "  def to_string(self):\n",
        "    for item in self.__data:\n",
        "      print(f\" | {item} |\")\n",
        "      print (\"-----\")"
      ],
      "execution_count": null,
      "outputs": []
    },
    {
      "cell_type": "code",
      "metadata": {
        "colab": {
          "base_uri": "https://localhost:8080/"
        },
        "id": "U1SQvoqC2MSc",
        "outputId": "77699de7-3594-442e-d76b-99d203950450"
      },
      "source": [
        "#Declarar lista para prueba\n",
        "prueba=[ ]\n",
        "dir(prueba) #Para saber que metodos tenemos disponibles\n",
        "prueba.append('e')\n",
        "prueba.append('f')\n",
        "prueba.append('g')\n",
        "prueba.append('h')\n",
        "print(prueba)\n",
        "\n",
        "var=prueba.pop()\n",
        "print(var)\n",
        "print(prueba)\n"
      ],
      "execution_count": 3,
      "outputs": [
        {
          "output_type": "stream",
          "text": [
            "['e', 'f', 'g', 'h']\n",
            "h\n"
          ],
          "name": "stdout"
        }
      ]
    },
    {
      "cell_type": "markdown",
      "metadata": {
        "id": "bNlqeT3KowNY"
      },
      "source": [
        "# Pilas.py"
      ]
    },
    {
      "cell_type": "code",
      "metadata": {
        "id": "xj4Jm6LkoHMj"
      },
      "source": [
        "from pilas import Stack \n",
        "pila=Stack()\n",
        "pila.push('a')\n",
        "pila.push('x')\n",
        "pila.to_string()\n",
        "var=pila.pop()\n",
        "pila.to_string()\n",
        "print(f\"var={}\"\")\n"
      ],
      "execution_count": null,
      "outputs": []
    }
  ]
}