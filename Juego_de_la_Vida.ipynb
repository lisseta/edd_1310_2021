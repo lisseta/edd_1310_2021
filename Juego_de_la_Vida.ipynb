{
  "nbformat": 4,
  "nbformat_minor": 0,
  "metadata": {
    "colab": {
      "name": "Juego de la Vida.ipynb",
      "provenance": [],
      "authorship_tag": "ABX9TyNgNV5vjpGxK5it3iYIOBKj",
      "include_colab_link": true
    },
    "kernelspec": {
      "name": "python3",
      "display_name": "Python 3"
    }
  },
  "cells": [
    {
      "cell_type": "markdown",
      "metadata": {
        "id": "view-in-github",
        "colab_type": "text"
      },
      "source": [
        "<a href=\"https://colab.research.google.com/github/lisseta/edd_1310_2021/blob/master/Juego_de_la_Vida.ipynb\" target=\"_parent\"><img src=\"https://colab.research.google.com/assets/colab-badge.svg\" alt=\"Open In Colab\"/></a>"
      ]
    },
    {
      "cell_type": "code",
      "metadata": {
        "id": "NPHVXnxHSbWz"
      },
      "source": [
        "class Array2D:\n",
        "\n",
        "    def __init__(self,rows, cols, value):\n",
        "        self.__cols = cols\n",
        "        self.__rows = rows\n",
        "        self.__array=[[value for x in range(self.__cols)] for y in range(self.__rows)]\n",
        "\n",
        "    def to_string(self):\n",
        "        [print(\"---\",end=\"\") for x in range(self.__cols)]\n",
        "        print(\"\")\n",
        "        for ren in self.__array:\n",
        "            print(ren)\n",
        "        [print(\"---\",end=\"\") for x in range(self.__cols)]\n",
        "        print(\"\")\n",
        "\n",
        "    def get_num_rows(self):\n",
        "        return self.__rows\n",
        "\n",
        "    def get_num_cols(self):\n",
        "        return self.__cols\n",
        "\n",
        "    def get_item(self,row,col):\n",
        "        return self.__array[row][col]\n",
        "\n",
        "    def set_item( self , row , col , valor ):\n",
        "        self.__array[row][col]=valor\n",
        "\n",
        "    def clearing(self, valor=0):\n",
        "        for ren in range(self.__rows):\n",
        "            for col in range(self.__cols):\n",
        "                self.__array[ren][col]=valor"
      ],
      "execution_count": 7,
      "outputs": []
    },
    {
      "cell_type": "code",
      "metadata": {
        "id": "UqpbiYjUgBwe"
      },
      "source": [
        "#from arrays import Array2D\n",
        "\n",
        "class JuegoDeLaVida:\n",
        "    CELULA_VIVA = 1\n",
        "    CELULA_MUERTA = 0\n",
        "\n",
        "    def _init_ (self, rens, cols, generaciones, poblaciones):\n",
        "        self.largo = cols\n",
        "        self.alto = rens\n",
        "        self.grid = Array2D ( self.alto, self.largo)\n",
        "        self.grid.clearing(self.CELULA_MUERTA) #TODAS MUERTAS\n",
        "        self.generaciones = generaciones\n",
        "\n",
        "        for celula in poblaciones:\n",
        "            self.grid.set_item(celula[0], celula[1], self.CELULA_VIVA)\n",
        "\n",
        "        def configura_generacion(self,nueva_poblacion):\n",
        "            self.grid.clearing()\n",
        "            for celula in nueva_poblacion:\n",
        "                self.grid.set_item(celula[0],celula[1],self._CELULA_VIVA)\n",
        "                \n",
        "        def imprime_grid(self):\n",
        "            for r in range(self.grid.get_num_rows()):\n",
        "                for c in range (self.grid.get_num_cols()):\n",
        "                    if self.grid.get_item(r,c) == 0:\n",
        "                        print(\"░░\",end=\"\")\n",
        "                    else: \n",
        "                        print(\"▓▓\",end=\"\")\n",
        "                print(\"\")                   \n",
        "                \n",
        "        def get_num_rows(self):\n",
        "            return  self.alto\n",
        "\n",
        "        def get_num_cols(self):\n",
        "            return self.largo\n",
        "\n",
        "        def set_celula_muerta(self,row,col):\n",
        "            self.grid.set_item(row,col,self.CELULA_MUERTA)\n",
        "\n",
        "        def set_celula_viva(self,row,col):\n",
        "            self.grid.set_item(row,col,self.CELULA_VIVA)\n",
        "\n",
        "        def get_is_viva(self,row,col):\n",
        "            return self.grid.get_item(row,col) == self.CELULA_VIVA\n",
        "\n",
        "        def get_is_muerta(self,row,col):\n",
        "            return self.grid.get_item(row,col) == self.CELULA_MUERTA\n",
        "\n",
        "        def get_numero_vecinos_vivos(self,row,col):\n",
        "            limites = [row-1 , row+1 , col-1 , col+1]\n",
        "            vivos = 0\n",
        "            limites = self._ajusta_limites_(limites)\n",
        "            if row >= 0 and row <=self.alto-1 and col >=0 and col <= self.largo-1:\n",
        "                for r in range(limite[0], limites[1]+1):\n",
        "                    for c in range (limites [2],limites[3]+1):\n",
        "                        if r == row and c == col:\n",
        "                            continue\n",
        "                        else:\n",
        "                            if self.grid.get_item(r,c) == CELULA_VIVA:\n",
        "                                vivos += 1\n",
        "            else:\n",
        "                print(\"Coordenada la celula fuera del grid\")\n",
        "            return vivos"
      ],
      "execution_count": 6,
      "outputs": []
    },
    {
      "cell_type": "code",
      "metadata": {
        "id": "2c2jR6qfStEd"
      },
      "source": [
        "class JuegoDeLaVida:\n",
        "  CELULA_VIVA=1\n",
        "  CELULA_MUERTA=0\n",
        "\n",
        "  def_init_(self,rens, cols,generaciones,poblacion):\n",
        "    def imprime_grid(self):\n",
        "      def get_num_rows(self):\n",
        "        \n"
      ],
      "execution_count": null,
      "outputs": []
    },
    {
      "cell_type": "code",
      "metadata": {
        "id": "jJMmCVaOYZg-",
        "outputId": "854b6e4a-10f5-4fed-9a93-0c039db84a9f",
        "colab": {
          "base_uri": "https://localhost:8080/",
          "height": 132
        }
      },
      "source": [
        "class Array2D\n",
        "\n",
        "def_init_(self, rows, cols, value):\n",
        "  self.__cols=cols \n",
        "  self.__rows=rows\n",
        "  self.__array=[ [value for x in range(self.__cols)] for y in range(self.__rows)] #El FOR recorre, para saber el tamaño de la matriz\n",
        "\n",
        "def to_string(self):\n",
        "    \n"
      ],
      "execution_count": null,
      "outputs": [
        {
          "output_type": "error",
          "ename": "SyntaxError",
          "evalue": "ignored",
          "traceback": [
            "\u001b[0;36m  File \u001b[0;32m\"<ipython-input-2-e1db8de38d31>\"\u001b[0;36m, line \u001b[0;32m1\u001b[0m\n\u001b[0;31m    class Array2D\u001b[0m\n\u001b[0m                 ^\u001b[0m\n\u001b[0;31mSyntaxError\u001b[0m\u001b[0;31m:\u001b[0m invalid syntax\n"
          ]
        }
      ]
    },
    {
      "cell_type": "code",
      "metadata": {
        "id": "Nk5Tl4jZcBku"
      },
      "source": [
        "class Juego:\n",
        "  CELULA_VIVA=1\n",
        "  CELULA_MUERTA=0\n",
        "\n",
        "  def __init__(self,rens,cols,generaciones,poblacion):\n",
        "    self.largo = cols \n",
        "    self.alto =rens\n",
        "    self.grid = Array2D(self.alto, self.largo,0)\n",
        "    self.generaciones=generaciones\n",
        "\n",
        "    for celula in poblacion:\n",
        "      self.grid.set_item(celula[0],celula[1],self.CELULA_VIVA)\n",
        "\n",
        "  def configura_generacion(self,nueva_poblacion): #6 GENERACIONES \n",
        "    self.grid.clearing()\n",
        "    for celula in nueva_poblacion:\n",
        "      self.grid.set_item(celula[0],celula[1],self.CELULA_VIVA)\n",
        "\n",
        "  def imprime_grid(self):\n",
        "    for r in range(self.grid.get_num_rows()):\n",
        "      for c in range(self.grid.get_num_cols()):\n",
        "        if self.grid.get_item(r,c)==0:\n",
        "          print(\"░░\",end=\"\")          \n",
        "        else:\n",
        "           print(\"▓▓\",end=\"\")          \n",
        "            print(\"\")\n",
        "                    \n"
      ],
      "execution_count": null,
      "outputs": []
    },
    {
      "cell_type": "markdown",
      "metadata": {
        "id": "_8ju5vw6kYxl"
      },
      "source": [
        "#Código Guía\n"
      ]
    },
    {
      "cell_type": "code",
      "metadata": {
        "id": "lZS8e8zIk3Qi",
        "outputId": "500e35f0-41be-4e92-b873-4bbc493f4c7f",
        "colab": {
          "base_uri": "https://localhost:8080/",
          "height": 135
        }
      },
      "source": [
        "#importar  numpy  como  np\n",
        "#importar  matplotlib . pyplot  como  plt\n",
        "#importar  matplotlib . cm  como  cm\n",
        "#desde  matplotlib  importar  animación\n",
        "\n",
        "\n",
        "def  vecindario ( b ):\n",
        "    \"\" \"Array de células vivas en el vecindario.\" \"\"\n",
        "    vecindario  = (\n",
        "        np . roll ( np . roll ( b , 1 , 1 ), 1 , 0 ) +   # Abajo-derecha\n",
        "        np . roll ( b , 1 , 0 ) +   # Abajo\n",
        "        np . roll ( np . roll ( b , - 1 , 1 ), 1 , 0 ) +   # Abajo-izquierda\n",
        "        np . roll ( b , - 1 , 1 ) +   # Izquierda\n",
        "        np . roll ( np . roll ( b , - 1 , 1 ), - 1 , 0 ) +   # Arriba-izquierda\n",
        "        np . roll ( b , - 1 , 0 ) +   # Arriba\n",
        "        np . roll ( np . roll ( b , 1 , 1 ), - 1 , 0 ) +   # Arriba-derecha\n",
        "        np . roll ( b , 1 , 1 )   # Derecha\n",
        "    )\n",
        "    #regreso  vecindario\n",
        "\n",
        "\n",
        "def  paso ( b ):\n",
        "    \"\" \"Paso en el juego de la vida de Conway.\" \"\"\n",
        "    v  =  vecindario ( b )\n",
        "    buffer_b  =  b . copy ()   # Hacemos una copia de la matriz\n",
        "    para  i  en el  rango ( buffer_b . forma [ 0 ]):\n",
        "        para  j  en el  rango ( buffer_b . forma [ 1 ]):\n",
        "            si  v [ i , j ] ==  3  o ( v [ i , j ] ==  2  y  buffer_b [ i , j ]):\n",
        "                buffer_b [ i , j ] =  1\n",
        "            otra cosa :\n",
        "                buffer_b [ i , j ] =  0\n",
        "    return  buffer_b\n",
        "\n",
        "\n",
        "# Parámetros del problema\n",
        "GENERACIONES  =  50\n",
        "N  =  8\n",
        "M  =  8\n",
        "\n",
        "# Construimos el tablero\n",
        "tablero  =  np . ceros (( N , M ), dtype = int )\n",
        "\n",
        "# Añadimos una nave\n",
        "tablero [ 1 , 1 : 4 ] =  1\n",
        "tablero [ 2 , 1 ] =  1\n",
        "tablero [ 3 , 2 ] =  1\n",
        "\n",
        "# Creamos la figura\n",
        "fig  =  plt . figura ( figsize = ( 4 , 4 ))\n",
        "ax  =  fig . add_subplot ( 111 )\n",
        "hacha . eje ( 'apagado' )\n",
        "b  =  tablero\n",
        "imagen  =  hacha . imshow ( b , interpolación = \"ninguno\" , cmap = cm . gray_r )\n",
        "\n",
        "\n",
        "def  animar ( i ):\n",
        "    global  b\n",
        "    b  =  paso ( b )\n",
        "    imagen . set_data ( b )\n",
        "\n",
        "\n",
        "anim  =  animación . FuncAnimation ( fig , animate , frames = GENERACIONES , blit = True )\n",
        "anim . guardar ( 'juego_vida.mp4' , fps = 10 )"
      ],
      "execution_count": 5,
      "outputs": [
        {
          "output_type": "error",
          "ename": "SyntaxError",
          "evalue": "ignored",
          "traceback": [
            "\u001b[0;36m  File \u001b[0;32m\"<ipython-input-5-b98802284263>\"\u001b[0;36m, line \u001b[0;32m26\u001b[0m\n\u001b[0;31m    para  i  en el  rango ( buffer_b . forma [ 0 ]):\u001b[0m\n\u001b[0m          ^\u001b[0m\n\u001b[0;31mSyntaxError\u001b[0m\u001b[0;31m:\u001b[0m invalid syntax\n"
          ]
        }
      ]
    }
  ]
}