{
  "nbformat": 4,
  "nbformat_minor": 0,
  "metadata": {
    "colab": {
      "name": "EXAMEN.ipynb",
      "provenance": [],
      "authorship_tag": "ABX9TyNXh5nMazWixwMCPKP/A4QS",
      "include_colab_link": true
    },
    "kernelspec": {
      "name": "python3",
      "display_name": "Python 3"
    }
  },
  "cells": [
    {
      "cell_type": "markdown",
      "metadata": {
        "id": "view-in-github",
        "colab_type": "text"
      },
      "source": [
        "<a href=\"https://colab.research.google.com/github/lisseta/edd_1310_2021/blob/master/EXAMEN.ipynb\" target=\"_parent\"><img src=\"https://colab.research.google.com/assets/colab-badge.svg\" alt=\"Open In Colab\"/></a>"
      ]
    },
    {
      "cell_type": "markdown",
      "metadata": {
        "id": "pohrcyFe_yEG"
      },
      "source": [
        "# HERNÀNDEZ PIEDRAS LIZETH \r\n",
        "\r\n",
        "\r\n",
        "\r\n"
      ]
    },
    {
      "cell_type": "code",
      "metadata": {
        "id": "bW6aGxVJoO-7"
      },
      "source": [
        "class nodo:\r\n",
        "    def __init__(self, valor, siguiente= None):\r\n",
        "        self.dato=valor\r\n",
        "        self.siguiente=siguiente\r\n",
        "\r\n"
      ],
      "execution_count": 4,
      "outputs": []
    },
    {
      "cell_type": "code",
      "metadata": {
        "id": "nAxlyx4I-zZK"
      },
      "source": [
        "class nodo:\r\n",
        "    def __init__(self, valor, siguiente= None):\r\n",
        "        self.dato=valor\r\n",
        "        self.siguiente=siguiente\r\n",
        "\r\n",
        "class linked_list:\r\n",
        "    def __init__(self):\r\n",
        "        self.__head= None\r\n",
        "        self.__contador=0\r\n",
        "    def is_empty(self):\r\n",
        "        return self.__head==None\r\n",
        "    def append (self,value):\r\n",
        "        nuevo=nodo(value)\r\n",
        "        if self.__head==None:\r\n",
        "            self.__head=nuevo\r\n",
        "        else:\r\n",
        "            curr_node=self.__head\r\n",
        "            while curr_node.siguiente !=None:\r\n",
        "                curr_node=curr_node.siguiente\r\n",
        "            curr_node.siguiente=nuevo\r\n",
        "        self.__contador=self.__contador+1\r\n",
        "# I N S E R T\r\n",
        "    def insert(self, value, pos):\r\n",
        "      if self.__head!=None:\r\n",
        "        if  pos==0:\r\n",
        "          nuevo=nodo(value,self.__head)\r\n",
        "          self.__head=nuevo\r\n",
        "        elif pos<=self.__contador:\r\n",
        "          nuevo=nodo(value)\r\n",
        "          curr_node=self.__head\r\n",
        "          anterior=None\r\n",
        "          cont=0\r\n",
        "          while cont<pos:\r\n",
        "            anterior=curr_node\r\n",
        "            curr_node=curr_node.siguiente\r\n",
        "            cont=cont+1\r\n",
        "          anterior.siguiente=nuevo\r\n",
        "          nuevo.siguiente=curr_node\r\n",
        "          self.__contador=self.__contador+1 #Cont.\r\n",
        "        else:\r\n",
        "          print(\"ALTO, lista muy grande\")\r\n",
        "      else:\r\n",
        "        print(\"NO EXISTE LA LISTA\")\r\n",
        "# I N S E R T \r\n",
        "    def transversal(self):\r\n",
        "        curr_node=self.__head\r\n",
        "        while curr_node != None:\r\n",
        "            print(f\"{curr_node.dato}->\",end=\"\")\r\n",
        "            curr_node=curr_node.siguiente\r\n",
        "        print(\"\")\r\n",
        "    def remove(self,value):\r\n",
        "      curr_node=self.__head\r\n",
        "      if self.__head.dato==value:\r\n",
        "        self.__head=self.__head.siguiente\r\n",
        "      else:\r\n",
        "        anterior=None\r\n",
        "        while curr_node.dato !=value and curr_node.siguiente:\r\n",
        "          anterior=curr_node\r\n",
        "          curr_node=curr_node.siguiente\r\n",
        "        if curr_node.dato== value:\r\n",
        "          anterior.siguiente=curr_node.siguiente\r\n",
        "          self.__contador=self.__contador-1\r\n",
        "        else:\r\n",
        "          print(\"INEXISTENTE\")\r\n",
        "    def cont(self):\r\n",
        "      return self.__contador"
      ],
      "execution_count": 10,
      "outputs": []
    }
  ]
}