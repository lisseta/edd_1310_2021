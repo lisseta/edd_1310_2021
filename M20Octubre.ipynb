{
  "nbformat": 4,
  "nbformat_minor": 0,
  "metadata": {
    "colab": {
      "name": "Untitled1.ipynb",
      "provenance": [],
      "toc_visible": true,
      "authorship_tag": "ABX9TyPayle0lVTwMbT5RiuL4cpG",
      "include_colab_link": true
    },
    "kernelspec": {
      "name": "python3",
      "display_name": "Python 3"
    }
  },
  "cells": [
    {
      "cell_type": "markdown",
      "metadata": {
        "id": "view-in-github",
        "colab_type": "text"
      },
      "source": [
        "<a href=\"https://colab.research.google.com/github/lisseta/edd_1310_2021/blob/master/M20Octubre.ipynb\" target=\"_parent\"><img src=\"https://colab.research.google.com/assets/colab-badge.svg\" alt=\"Open In Colab\"/></a>"
      ]
    },
    {
      "cell_type": "code",
      "metadata": {
        "id": "FGHIhEdXGuwk",
        "outputId": "2ebe7767-cf90-4b48-dfe9-467baf1a9078",
        "colab": {
          "base_uri": "https://localhost:8080/",
          "height": 214
        }
      },
      "source": [
        "archivo = open('numeros.txt', 'rt')\n",
        "for linea in  archivo.readlines()[:3:]:\n",
        "    for trunc in linea.split(','):\n",
        "        print(int(trunc.strip()))"
      ],
      "execution_count": null,
      "outputs": [
        {
          "output_type": "error",
          "ename": "FileNotFoundError",
          "evalue": "ignored",
          "traceback": [
            "\u001b[0;31m---------------------------------------------------------------------------\u001b[0m",
            "\u001b[0;31mFileNotFoundError\u001b[0m                         Traceback (most recent call last)",
            "\u001b[0;32m<ipython-input-6-abba4cebbd4b>\u001b[0m in \u001b[0;36m<module>\u001b[0;34m()\u001b[0m\n\u001b[0;32m----> 1\u001b[0;31m \u001b[0marchivo\u001b[0m \u001b[0;34m=\u001b[0m \u001b[0mopen\u001b[0m\u001b[0;34m(\u001b[0m\u001b[0;34m'numeros.txt'\u001b[0m\u001b[0;34m,\u001b[0m \u001b[0;34m'rt'\u001b[0m\u001b[0;34m)\u001b[0m\u001b[0;34m\u001b[0m\u001b[0;34m\u001b[0m\u001b[0m\n\u001b[0m\u001b[1;32m      2\u001b[0m \u001b[0;32mfor\u001b[0m \u001b[0mlinea\u001b[0m \u001b[0;32min\u001b[0m  \u001b[0marchivo\u001b[0m\u001b[0;34m.\u001b[0m\u001b[0mreadlines\u001b[0m\u001b[0;34m(\u001b[0m\u001b[0;34m)\u001b[0m\u001b[0;34m[\u001b[0m\u001b[0;34m:\u001b[0m\u001b[0;36m3\u001b[0m\u001b[0;34m:\u001b[0m\u001b[0;34m]\u001b[0m\u001b[0;34m:\u001b[0m\u001b[0;34m\u001b[0m\u001b[0;34m\u001b[0m\u001b[0m\n\u001b[1;32m      3\u001b[0m     \u001b[0;32mfor\u001b[0m \u001b[0mtrunc\u001b[0m \u001b[0;32min\u001b[0m \u001b[0mlinea\u001b[0m\u001b[0;34m.\u001b[0m\u001b[0msplit\u001b[0m\u001b[0;34m(\u001b[0m\u001b[0;34m','\u001b[0m\u001b[0;34m)\u001b[0m\u001b[0;34m:\u001b[0m\u001b[0;34m\u001b[0m\u001b[0;34m\u001b[0m\u001b[0m\n\u001b[1;32m      4\u001b[0m         \u001b[0mprint\u001b[0m\u001b[0;34m(\u001b[0m\u001b[0mint\u001b[0m\u001b[0;34m(\u001b[0m\u001b[0mtrunc\u001b[0m\u001b[0;34m.\u001b[0m\u001b[0mstrip\u001b[0m\u001b[0;34m(\u001b[0m\u001b[0;34m)\u001b[0m\u001b[0;34m)\u001b[0m\u001b[0;34m)\u001b[0m\u001b[0;34m\u001b[0m\u001b[0;34m\u001b[0m\u001b[0m\n",
            "\u001b[0;31mFileNotFoundError\u001b[0m: [Errno 2] No such file or directory: 'numeros.txt'"
          ]
        }
      ]
    },
    {
      "cell_type": "markdown",
      "metadata": {
        "id": "53yfKnHeHgwM"
      },
      "source": [
        "\n",
        "#Sintaxis del for en Python\n",
        "Dos versiones de For en Python\n",
        "\n",
        "\n",
        "*   Range\n",
        "*   In iterador\n",
        "\n"
      ]
    },
    {
      "cell_type": "code",
      "metadata": {
        "id": "qLLmekrpH4Ll",
        "outputId": "ae261ed0-1b49-419f-85b1-8baf0697bb54",
        "colab": {
          "base_uri": "https://localhost:8080/",
          "height": 231
        }
      },
      "source": [
        "for x in r:\n",
        "    print(x)\n",
        "\n",
        "colores = ['rojo', 'rosa', 'azul', 'fucsia']\n",
        "\n",
        "for indice in range(0,len(colores),1): # for (indice =0;indice <4;indice++)\n",
        "    #print(colores[indice])\n",
        "    colores[indice]=colores[indice] + str(indice)\n",
        "\n",
        "# for sobre un iterador\n",
        "\n",
        "for col in colores:\n",
        "  print(col)"
      ],
      "execution_count": null,
      "outputs": [
        {
          "output_type": "error",
          "ename": "NameError",
          "evalue": "ignored",
          "traceback": [
            "\u001b[0;31m---------------------------------------------------------------------------\u001b[0m",
            "\u001b[0;31mNameError\u001b[0m                                 Traceback (most recent call last)",
            "\u001b[0;32m<ipython-input-2-8a39e6af22a2>\u001b[0m in \u001b[0;36m<module>\u001b[0;34m()\u001b[0m\n\u001b[0;32m----> 1\u001b[0;31m \u001b[0;32mfor\u001b[0m \u001b[0mx\u001b[0m \u001b[0;32min\u001b[0m \u001b[0mr\u001b[0m\u001b[0;34m:\u001b[0m\u001b[0;34m\u001b[0m\u001b[0;34m\u001b[0m\u001b[0m\n\u001b[0m\u001b[1;32m      2\u001b[0m     \u001b[0mprint\u001b[0m\u001b[0;34m(\u001b[0m\u001b[0mx\u001b[0m\u001b[0;34m)\u001b[0m\u001b[0;34m\u001b[0m\u001b[0;34m\u001b[0m\u001b[0m\n\u001b[1;32m      3\u001b[0m \u001b[0;34m\u001b[0m\u001b[0m\n\u001b[1;32m      4\u001b[0m \u001b[0mcolores\u001b[0m \u001b[0;34m=\u001b[0m \u001b[0;34m[\u001b[0m\u001b[0;34m'rojo'\u001b[0m\u001b[0;34m,\u001b[0m \u001b[0;34m'rosa'\u001b[0m\u001b[0;34m,\u001b[0m \u001b[0;34m'azul'\u001b[0m\u001b[0;34m,\u001b[0m \u001b[0;34m'fucsia'\u001b[0m\u001b[0;34m]\u001b[0m\u001b[0;34m\u001b[0m\u001b[0;34m\u001b[0m\u001b[0m\n\u001b[1;32m      5\u001b[0m \u001b[0;34m\u001b[0m\u001b[0m\n",
            "\u001b[0;31mNameError\u001b[0m: name 'r' is not defined"
          ]
        }
      ]
    },
    {
      "cell_type": "markdown",
      "metadata": {
        "id": "7TMgA2GyIwUs"
      },
      "source": [
        "#Generadores\n",
        "\n",
        "[\"hola\" for x in range(10) ]\n",
        "\n",
        "[[0,0,0] [0,0,0] [0,0,0]]\n",
        "\n",
        "3 x 3"
      ]
    },
    {
      "cell_type": "code",
      "metadata": {
        "id": "hUHo8TInJCpM",
        "outputId": "6139669e-09b0-49e3-d79b-b451542a07b4",
        "colab": {
          "base_uri": "https://localhost:8080/",
          "height": 34
        }
      },
      "source": [
        "\n",
        "lista = [ [0,0,0] for x in range(3)]\n",
        "print(lista)"
      ],
      "execution_count": null,
      "outputs": [
        {
          "output_type": "stream",
          "text": [
            "[[0, 0, 0], [0, 0, 0], [0, 0, 0]]\n"
          ],
          "name": "stdout"
        }
      ]
    },
    {
      "cell_type": "code",
      "metadata": {
        "id": "SQ5pZCEsJEGF"
      },
      "source": [
        "renglon = 3\n",
        "columna = 3\n",
        "lista = [ [0 for x in range(columna)] for x in range(renglon) ]\n",
        "print(lista)"
      ],
      "execution_count": null,
      "outputs": []
    },
    {
      "cell_type": "markdown",
      "metadata": {
        "id": "OfVcXaQHJTqv"
      },
      "source": [
        "\n",
        "#POO en Python\n",
        "\n",
        "*   Clase\n",
        "*   Creaciòn de objetos\n",
        "*   Constructor\n",
        "*   Encapsulamiento\n",
        "*   Mètodos\n",
        "*   Atributos\n",
        "*   Herencia\n"
      ]
    },
    {
      "cell_type": "code",
      "metadata": {
        "id": "YnzCNLNgMSTI",
        "outputId": "4e50ab4c-53ee-479a-8d4a-cbd6d01e28e3",
        "colab": {
          "base_uri": "https://localhost:8080/",
          "height": 51
        }
      },
      "source": [
        "class Computadora:\n",
        "    def __init__( self , m , p ): # 2 __ antes y 2 __ después, los guiones bajos significan private\n",
        "        self.__marca= m\n",
        "        self.__procesador= p\n",
        "        print(\"creando el objeto\")\n",
        "             \n",
        "    def to_string( self ): # self hace que Python se comporte como POO, siempre sera esta palabra de forma forzosa para que Python haga funciones de Java o POO\n",
        "        return \"Marca:\" +self.__marca+\" Procesador:\" +self.__procesador\n",
        "\n",
        "mi_pc = Computadora(\"Lenovo\",\"Intel i7-9750h\")\n",
        "mi_pc.__marca=\"HP \"\n",
        "print(mi_pc.to_string())\n"
      ],
      "execution_count": null,
      "outputs": [
        {
          "output_type": "stream",
          "text": [
            "creando el objeto\n",
            "Marca:Lenovo Procesador:Intel i7-9750h\n"
          ],
          "name": "stdout"
        }
      ]
    }
  ]
}